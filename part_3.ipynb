{
 "cells": [
  {
   "cell_type": "markdown",
   "source": [
    "# Introduction\n",
    "To re-state the problem my goal is to predict Track and Field All-Americans from the 2022 Division I championship. Previously, we collected the history of each qualifying athlete's entire collegiate career and generated features based on their data. I am not aiming to predict specific placements rather only if an athlete earns the All-American honor (top eight) or not. In this part of the project I will look to transform the data in various ways and try multiple models in order to succesfully predict athlete performances."
   ],
   "metadata": {
    "collapsed": false,
    "pycharm": {
     "name": "#%% md\n"
    }
   }
  },
  {
   "cell_type": "code",
   "execution_count": 1,
   "metadata": {
    "pycharm": {
     "name": "#%%\n"
    }
   },
   "outputs": [],
   "source": [
    "import pandas as pd\n",
    "import matplotlib.pyplot as plt\n",
    "import numpy as np"
   ]
  },
  {
   "cell_type": "markdown",
   "source": [
    "# Load/Transform the data\n",
    "When loading the data I will call the default dataset from part 2 as X. While we are here, I will also make a set called X_scaled which applies min-max scaling to the relevant features."
   ],
   "metadata": {
    "collapsed": false,
    "pycharm": {
     "name": "#%% md\n"
    }
   }
  },
  {
   "cell_type": "code",
   "execution_count": 63,
   "metadata": {
    "pycharm": {
     "name": "#%%\n"
    }
   },
   "outputs": [],
   "source": [
    "global df\n",
    "df = pd.read_csv(\"./data/processed/raw.csv\")\n",
    "df.drop([\"school\", \"q1\", \"q3\", \"grade\"], axis=1, inplace=True)\n",
    "X = df.drop([\"name\", \"event\", \"place\", \"all_american\", \"score\"], axis=1)\n",
    "\n",
    "y_score = df[\"score\"]\n",
    "y_all_am = df[\"all_american\"]"
   ]
  },
  {
   "cell_type": "code",
   "execution_count": 64,
   "outputs": [],
   "source": [
    "# Makes splitting for train/test and CV easier\n",
    "from sklearn.preprocessing import LabelEncoder\n",
    "le = LabelEncoder()\n",
    "df[\"event_num\"] = le.fit_transform(df[\"event\"])"
   ],
   "metadata": {
    "collapsed": false,
    "pycharm": {
     "name": "#%%\n"
    }
   }
  },
  {
   "cell_type": "code",
   "execution_count": 65,
   "metadata": {
    "pycharm": {
     "name": "#%%\n"
    }
   },
   "outputs": [],
   "source": [
    "# Prepare scaled data for later\n",
    "from sklearn.preprocessing import MinMaxScaler\n",
    "scaler = MinMaxScaler()\n",
    "columns = list(X.columns[:-1]) # Year scaling is dividing by 4\n",
    "X_scaled_np = scaler.fit_transform(X.drop([\"year\"], axis=1))\n",
    "X_scaled = pd.DataFrame(X_scaled_np, columns=columns)\n",
    "X_scaled = pd.concat([X_scaled, df[\"year\"]], axis=1)"
   ]
  },
  {
   "cell_type": "code",
   "execution_count": 66,
   "outputs": [],
   "source": [
    "# These changes are also the updates to part 2\n",
    "X[\"year\"] /= 4\n",
    "X[\"count\"] = X_scaled[\"count\"].copy()"
   ],
   "metadata": {
    "collapsed": false,
    "pycharm": {
     "name": "#%%\n"
    }
   }
  },
  {
   "cell_type": "markdown",
   "metadata": {
    "pycharm": {
     "name": "#%% md\n"
    }
   },
   "source": [
    "# Baseline\n",
    "\n",
    "Given that there are 24 athletes competing in an event but only 8 place All-American the completely random chance of guessing correctly is 1/3. First, I want to create a custom metric which shows how many of the top 8 were predicted correctly for each event. With this custom metric ready, we can also make a more intelligent baseline by predicting the top 8 athletes based on a given feature to be the all-americans."
   ]
  },
  {
   "cell_type": "code",
   "execution_count": 7,
   "outputs": [
    {
     "name": "stdout",
     "output_type": "stream",
     "text": [
      "[('mean_three_best', 0.729), ('max', 0.681), ('median', 0.59), ('mean', 0.576), ('mean_three_recent', 0.576)]\n"
     ]
    }
   ],
   "source": [
    "def percent_all_american_score(y_true, y_pred, indices=df.index):\n",
    "    truth = df.iloc[indices][[\"name\", \"event\", \"place\", \"all_american\"]].copy()\n",
    "    truth[\"prob_all_am\"] = y_pred\n",
    "    top_eight = truth.sort_values([\"event\", \"prob_all_am\"], ascending=False).groupby([\"event\"]).head(8)\n",
    "    return sum(top_eight[\"all_american\"]) / len(top_eight)\n",
    "\n",
    "\n",
    "# from sklearn.metrics import make_scorer\n",
    "# all_am_accuracy = make_scorer(percent_all_american_score, needs_proba=True, indices=df.index)\n",
    "\n",
    "single_feature_scores = [(feature, round(percent_all_american_score(None, X[feature]), 3)) for feature in X.columns]\n",
    "print(sorted(single_feature_scores, key=lambda tup: tup[1], reverse=True)[:5])"
   ],
   "metadata": {
    "collapsed": false,
    "pycharm": {
     "name": "#%%\n"
    }
   }
  },
  {
   "cell_type": "markdown",
   "metadata": {
    "pycharm": {
     "name": "#%% md\n"
    }
   },
   "source": [
    "As a result, my feature engineered `mean_three_best` by itself is nearly 73 percent accurate! If the models can not beat *0.729* accuracy on this metric then we can determine that either 1) we need to collect more data and/or features or 2) this problem is not well suited to machine learning."
   ]
  },
  {
   "cell_type": "markdown",
   "metadata": {
    "pycharm": {
     "name": "#%% md\n"
    }
   },
   "source": [
    "# Dimensionality Reduction\n",
    "We will try various methods of dimensionality reduction as an initial pass over the data. As we saw from the baseline even one feature can be very powerful so that gives us a hint as to the strategy of feature reduction. Our approaches will include Correlation coefficients, Decision Tree feature importances, and PCA."
   ]
  },
  {
   "cell_type": "markdown",
   "metadata": {
    "pycharm": {
     "name": "#%% md\n"
    }
   },
   "source": [
    "### Correlation\n",
    "First, we check if any features are highly correlated to consider if they are overlapping."
   ]
  },
  {
   "cell_type": "code",
   "execution_count": 9,
   "metadata": {
    "pycharm": {
     "name": "#%%\n"
    }
   },
   "outputs": [
    {
     "data": {
      "text/plain": "                             all_am       min       max      mean       std  \\\nall_american               1.000000       NaN       NaN       NaN       NaN   \nmin                             NaN  1.000000  0.746160  0.868393 -0.863812   \nmax                             NaN  0.746160  1.000000  0.945981       NaN   \nmean                            NaN  0.868393  0.945981  1.000000 -0.608691   \nstd                             NaN -0.863812       NaN -0.608691  1.000000   \nmedian                          NaN  0.839157  0.941817  0.994070 -0.565123   \nmean_three_recent               NaN  0.868393  0.945981  1.000000 -0.608691   \nmean_three_best                 NaN  0.757867  0.979613  0.957523 -0.427707   \nmean_three_worst                NaN  0.958043  0.832441  0.951560 -0.791583   \npercent_diff_recent_best        NaN -0.742832 -0.402534 -0.633585  0.805915   \npercent_diff_recent_worst       NaN -0.834228       NaN -0.566721  0.915533   \nno_mark_rate                    NaN       NaN       NaN       NaN       NaN   \ncount                           NaN       NaN       NaN       NaN       NaN   \nyear                            NaN       NaN       NaN       NaN       NaN   \nscore                      0.814729       NaN       NaN       NaN       NaN   \n\n                             median  mean_3_recent  mean_3_best  mean_3_worst  \\\nall_american                    NaN            NaN          NaN           NaN   \nmin                        0.839157       0.868393     0.757867      0.958043   \nmax                        0.941817       0.945981     0.979613      0.832441   \nmean                       0.994070       1.000000     0.957523      0.951560   \nstd                       -0.565123      -0.608691    -0.427707     -0.791583   \nmedian                     1.000000       0.994070     0.956692      0.930132   \nmean_three_recent          0.994070       1.000000     0.957523      0.951560   \nmean_three_best            0.956692       0.957523     1.000000      0.841396   \nmean_three_worst           0.930132       0.951560     0.841396      1.000000   \npercent_diff_recent_best  -0.616570      -0.633585          NaN     -0.786998   \npercent_diff_recent_worst -0.517846      -0.566721          NaN     -0.789165   \nno_mark_rate                    NaN            NaN          NaN           NaN   \ncount                           NaN            NaN          NaN           NaN   \nyear                            NaN            NaN          NaN           NaN   \nscore                           NaN            NaN          NaN           NaN   \n\n                           pd_recent_best  pd_recent_worst  no_mark_rate  \\\nall_american                          NaN              NaN           NaN   \nmin                             -0.742832        -0.834228           NaN   \nmax                             -0.402534              NaN           NaN   \nmean                            -0.633585        -0.566721           NaN   \nstd                              0.805915         0.915533           NaN   \nmedian                          -0.616570        -0.517846           NaN   \nmean_three_recent               -0.633585        -0.566721           NaN   \nmean_three_best                       NaN              NaN           NaN   \nmean_three_worst                -0.786998        -0.789165           NaN   \npercent_diff_recent_best         1.000000         0.861893           NaN   \npercent_diff_recent_worst        0.861893         1.000000           NaN   \nno_mark_rate                          NaN              NaN           1.0   \ncount                            0.557427         0.504491           NaN   \nyear                                  NaN              NaN           NaN   \nscore                                 NaN              NaN           NaN   \n\n                              count  year     score  \nall_american                    NaN   NaN  0.814729  \nmin                             NaN   NaN       NaN  \nmax                             NaN   NaN       NaN  \nmean                            NaN   NaN       NaN  \nstd                             NaN   NaN       NaN  \nmedian                          NaN   NaN       NaN  \nmean_three_recent               NaN   NaN       NaN  \nmean_three_best                 NaN   NaN       NaN  \nmean_three_worst                NaN   NaN       NaN  \npercent_diff_recent_best   0.557427   NaN       NaN  \npercent_diff_recent_worst  0.504491   NaN       NaN  \nno_mark_rate                    NaN   NaN       NaN  \ncount                      1.000000   NaN       NaN  \nyear                            NaN   1.0       NaN  \nscore                           NaN   NaN  1.000000  ",
      "text/html": "<div>\n<style scoped>\n    .dataframe tbody tr th:only-of-type {\n        vertical-align: middle;\n    }\n\n    .dataframe tbody tr th {\n        vertical-align: top;\n    }\n\n    .dataframe thead th {\n        text-align: right;\n    }\n</style>\n<table border=\"1\" class=\"dataframe\">\n  <thead>\n    <tr style=\"text-align: right;\">\n      <th></th>\n      <th>all_am</th>\n      <th>min</th>\n      <th>max</th>\n      <th>mean</th>\n      <th>std</th>\n      <th>median</th>\n      <th>mean_3_recent</th>\n      <th>mean_3_best</th>\n      <th>mean_3_worst</th>\n      <th>pd_recent_best</th>\n      <th>pd_recent_worst</th>\n      <th>no_mark_rate</th>\n      <th>count</th>\n      <th>year</th>\n      <th>score</th>\n    </tr>\n  </thead>\n  <tbody>\n    <tr>\n      <th>all_american</th>\n      <td>1.000000</td>\n      <td>NaN</td>\n      <td>NaN</td>\n      <td>NaN</td>\n      <td>NaN</td>\n      <td>NaN</td>\n      <td>NaN</td>\n      <td>NaN</td>\n      <td>NaN</td>\n      <td>NaN</td>\n      <td>NaN</td>\n      <td>NaN</td>\n      <td>NaN</td>\n      <td>NaN</td>\n      <td>0.814729</td>\n    </tr>\n    <tr>\n      <th>min</th>\n      <td>NaN</td>\n      <td>1.000000</td>\n      <td>0.746160</td>\n      <td>0.868393</td>\n      <td>-0.863812</td>\n      <td>0.839157</td>\n      <td>0.868393</td>\n      <td>0.757867</td>\n      <td>0.958043</td>\n      <td>-0.742832</td>\n      <td>-0.834228</td>\n      <td>NaN</td>\n      <td>NaN</td>\n      <td>NaN</td>\n      <td>NaN</td>\n    </tr>\n    <tr>\n      <th>max</th>\n      <td>NaN</td>\n      <td>0.746160</td>\n      <td>1.000000</td>\n      <td>0.945981</td>\n      <td>NaN</td>\n      <td>0.941817</td>\n      <td>0.945981</td>\n      <td>0.979613</td>\n      <td>0.832441</td>\n      <td>-0.402534</td>\n      <td>NaN</td>\n      <td>NaN</td>\n      <td>NaN</td>\n      <td>NaN</td>\n      <td>NaN</td>\n    </tr>\n    <tr>\n      <th>mean</th>\n      <td>NaN</td>\n      <td>0.868393</td>\n      <td>0.945981</td>\n      <td>1.000000</td>\n      <td>-0.608691</td>\n      <td>0.994070</td>\n      <td>1.000000</td>\n      <td>0.957523</td>\n      <td>0.951560</td>\n      <td>-0.633585</td>\n      <td>-0.566721</td>\n      <td>NaN</td>\n      <td>NaN</td>\n      <td>NaN</td>\n      <td>NaN</td>\n    </tr>\n    <tr>\n      <th>std</th>\n      <td>NaN</td>\n      <td>-0.863812</td>\n      <td>NaN</td>\n      <td>-0.608691</td>\n      <td>1.000000</td>\n      <td>-0.565123</td>\n      <td>-0.608691</td>\n      <td>-0.427707</td>\n      <td>-0.791583</td>\n      <td>0.805915</td>\n      <td>0.915533</td>\n      <td>NaN</td>\n      <td>NaN</td>\n      <td>NaN</td>\n      <td>NaN</td>\n    </tr>\n    <tr>\n      <th>median</th>\n      <td>NaN</td>\n      <td>0.839157</td>\n      <td>0.941817</td>\n      <td>0.994070</td>\n      <td>-0.565123</td>\n      <td>1.000000</td>\n      <td>0.994070</td>\n      <td>0.956692</td>\n      <td>0.930132</td>\n      <td>-0.616570</td>\n      <td>-0.517846</td>\n      <td>NaN</td>\n      <td>NaN</td>\n      <td>NaN</td>\n      <td>NaN</td>\n    </tr>\n    <tr>\n      <th>mean_three_recent</th>\n      <td>NaN</td>\n      <td>0.868393</td>\n      <td>0.945981</td>\n      <td>1.000000</td>\n      <td>-0.608691</td>\n      <td>0.994070</td>\n      <td>1.000000</td>\n      <td>0.957523</td>\n      <td>0.951560</td>\n      <td>-0.633585</td>\n      <td>-0.566721</td>\n      <td>NaN</td>\n      <td>NaN</td>\n      <td>NaN</td>\n      <td>NaN</td>\n    </tr>\n    <tr>\n      <th>mean_three_best</th>\n      <td>NaN</td>\n      <td>0.757867</td>\n      <td>0.979613</td>\n      <td>0.957523</td>\n      <td>-0.427707</td>\n      <td>0.956692</td>\n      <td>0.957523</td>\n      <td>1.000000</td>\n      <td>0.841396</td>\n      <td>NaN</td>\n      <td>NaN</td>\n      <td>NaN</td>\n      <td>NaN</td>\n      <td>NaN</td>\n      <td>NaN</td>\n    </tr>\n    <tr>\n      <th>mean_three_worst</th>\n      <td>NaN</td>\n      <td>0.958043</td>\n      <td>0.832441</td>\n      <td>0.951560</td>\n      <td>-0.791583</td>\n      <td>0.930132</td>\n      <td>0.951560</td>\n      <td>0.841396</td>\n      <td>1.000000</td>\n      <td>-0.786998</td>\n      <td>-0.789165</td>\n      <td>NaN</td>\n      <td>NaN</td>\n      <td>NaN</td>\n      <td>NaN</td>\n    </tr>\n    <tr>\n      <th>percent_diff_recent_best</th>\n      <td>NaN</td>\n      <td>-0.742832</td>\n      <td>-0.402534</td>\n      <td>-0.633585</td>\n      <td>0.805915</td>\n      <td>-0.616570</td>\n      <td>-0.633585</td>\n      <td>NaN</td>\n      <td>-0.786998</td>\n      <td>1.000000</td>\n      <td>0.861893</td>\n      <td>NaN</td>\n      <td>0.557427</td>\n      <td>NaN</td>\n      <td>NaN</td>\n    </tr>\n    <tr>\n      <th>percent_diff_recent_worst</th>\n      <td>NaN</td>\n      <td>-0.834228</td>\n      <td>NaN</td>\n      <td>-0.566721</td>\n      <td>0.915533</td>\n      <td>-0.517846</td>\n      <td>-0.566721</td>\n      <td>NaN</td>\n      <td>-0.789165</td>\n      <td>0.861893</td>\n      <td>1.000000</td>\n      <td>NaN</td>\n      <td>0.504491</td>\n      <td>NaN</td>\n      <td>NaN</td>\n    </tr>\n    <tr>\n      <th>no_mark_rate</th>\n      <td>NaN</td>\n      <td>NaN</td>\n      <td>NaN</td>\n      <td>NaN</td>\n      <td>NaN</td>\n      <td>NaN</td>\n      <td>NaN</td>\n      <td>NaN</td>\n      <td>NaN</td>\n      <td>NaN</td>\n      <td>NaN</td>\n      <td>1.0</td>\n      <td>NaN</td>\n      <td>NaN</td>\n      <td>NaN</td>\n    </tr>\n    <tr>\n      <th>count</th>\n      <td>NaN</td>\n      <td>NaN</td>\n      <td>NaN</td>\n      <td>NaN</td>\n      <td>NaN</td>\n      <td>NaN</td>\n      <td>NaN</td>\n      <td>NaN</td>\n      <td>NaN</td>\n      <td>0.557427</td>\n      <td>0.504491</td>\n      <td>NaN</td>\n      <td>1.000000</td>\n      <td>NaN</td>\n      <td>NaN</td>\n    </tr>\n    <tr>\n      <th>year</th>\n      <td>NaN</td>\n      <td>NaN</td>\n      <td>NaN</td>\n      <td>NaN</td>\n      <td>NaN</td>\n      <td>NaN</td>\n      <td>NaN</td>\n      <td>NaN</td>\n      <td>NaN</td>\n      <td>NaN</td>\n      <td>NaN</td>\n      <td>NaN</td>\n      <td>NaN</td>\n      <td>1.0</td>\n      <td>NaN</td>\n    </tr>\n    <tr>\n      <th>score</th>\n      <td>0.814729</td>\n      <td>NaN</td>\n      <td>NaN</td>\n      <td>NaN</td>\n      <td>NaN</td>\n      <td>NaN</td>\n      <td>NaN</td>\n      <td>NaN</td>\n      <td>NaN</td>\n      <td>NaN</td>\n      <td>NaN</td>\n      <td>NaN</td>\n      <td>NaN</td>\n      <td>NaN</td>\n      <td>1.000000</td>\n    </tr>\n  </tbody>\n</table>\n</div>"
     },
     "execution_count": 9,
     "metadata": {},
     "output_type": "execute_result"
    }
   ],
   "source": [
    "X_correlations = df.drop([\"name\", \"place\", \"event_num\"], axis=1).corr()\n",
    "X_correlations.columns = [\n",
    "    'all_am', 'min', 'max', 'mean', 'std', 'median', 'mean_3_recent', 'mean_3_best', 'mean_3_worst',\n",
    "    'pd_recent_best', 'pd_recent_worst', 'no_mark_rate', 'count', 'year', 'score'\n",
    "] # To fit the dataframe on screen\n",
    "X_correlations[abs(X_correlations) > 0.4]"
   ]
  },
  {
   "cell_type": "markdown",
   "metadata": {
    "pycharm": {
     "name": "#%% md\n"
    }
   },
   "source": [
    "and from the correlation matrix we observe the following:\n",
    "- The `min, max, mean, median` are highly correlated as expected. Consider selecting only one of the four.\n",
    "- The three `mean_` features highly correlated with `min, max, mean, median` so they may not be very descriptive\n",
    "- The `percent_diff`  features have a strong negative correlation `with min, max, mean, median`\n",
    "- The `percent_diff`  features are highly correlated with standard deviation and count which was not expected\n",
    "\n",
    "Because the `min, max, median`,  `mean_three_recent, mean_three_best, mean_three_worst`, and `percent_diff_recent_best, percent_diff_recent_worst` feature groups are so similar and strongly correlated I will pick only one of them based on the strongest correlation to target. This additionally lightens the problem of the `percent_diff` features being linear combinations of the `mean_` features.\n"
   ]
  },
  {
   "cell_type": "code",
   "execution_count": 10,
   "outputs": [
    {
     "data": {
      "text/plain": "all_american                 0.814729\nmin                          0.122397\nmax                          0.286176\nmean                         0.207847\nstd                          0.034175\nmedian                       0.208468\nmean_three_recent            0.207847\nmean_three_best              0.268128\nmean_three_worst             0.138837\npercent_diff_recent_best     0.054832\npercent_diff_recent_worst    0.036084\nno_mark_rate                -0.148302\ncount                        0.122951\nyear                         0.035511\nscore                        1.000000\nName: score, dtype: float64"
     },
     "execution_count": 10,
     "metadata": {},
     "output_type": "execute_result"
    }
   ],
   "source": [
    "# Observe which features correlate best with target\n",
    "X_correlations[\"score\"]"
   ],
   "metadata": {
    "collapsed": false,
    "pycharm": {
     "name": "#%%\n"
    }
   }
  },
  {
   "cell_type": "markdown",
   "source": [
    "Here, the `max, mean_three_best, percent_diff_recent_best` features win their groups respectively. In conclusion, our feature reduced dataset based on correlaton will be"
   ],
   "metadata": {
    "collapsed": false,
    "pycharm": {
     "name": "#%% md\n"
    }
   }
  },
  {
   "cell_type": "code",
   "execution_count": 113,
   "metadata": {
    "pycharm": {
     "name": "#%%\n"
    }
   },
   "outputs": [
    {
     "data": {
      "text/plain": "        max       std  mean_three_best  percent_diff_recent_best  \\\n0  0.982000  0.011727         0.979063                  0.013292   \n1  1.003064  0.011425         0.974206                  0.000230   \n2  0.974206  0.015418         0.974206                  0.015742   \n3  0.987928  0.013936         0.979063                  0.013061   \n4  0.979063  0.011750         0.972277                  0.011381   \n\n   no_mark_rate     count  year  \n0           0.0  0.180556  0.50  \n1           0.0  0.083333  0.25  \n2           0.0  0.180556  0.50  \n3           0.0  0.208333  0.75  \n4           0.0  0.194444  1.00  ",
      "text/html": "<div>\n<style scoped>\n    .dataframe tbody tr th:only-of-type {\n        vertical-align: middle;\n    }\n\n    .dataframe tbody tr th {\n        vertical-align: top;\n    }\n\n    .dataframe thead th {\n        text-align: right;\n    }\n</style>\n<table border=\"1\" class=\"dataframe\">\n  <thead>\n    <tr style=\"text-align: right;\">\n      <th></th>\n      <th>max</th>\n      <th>std</th>\n      <th>mean_three_best</th>\n      <th>percent_diff_recent_best</th>\n      <th>no_mark_rate</th>\n      <th>count</th>\n      <th>year</th>\n    </tr>\n  </thead>\n  <tbody>\n    <tr>\n      <th>0</th>\n      <td>0.982000</td>\n      <td>0.011727</td>\n      <td>0.979063</td>\n      <td>0.013292</td>\n      <td>0.0</td>\n      <td>0.180556</td>\n      <td>0.50</td>\n    </tr>\n    <tr>\n      <th>1</th>\n      <td>1.003064</td>\n      <td>0.011425</td>\n      <td>0.974206</td>\n      <td>0.000230</td>\n      <td>0.0</td>\n      <td>0.083333</td>\n      <td>0.25</td>\n    </tr>\n    <tr>\n      <th>2</th>\n      <td>0.974206</td>\n      <td>0.015418</td>\n      <td>0.974206</td>\n      <td>0.015742</td>\n      <td>0.0</td>\n      <td>0.180556</td>\n      <td>0.50</td>\n    </tr>\n    <tr>\n      <th>3</th>\n      <td>0.987928</td>\n      <td>0.013936</td>\n      <td>0.979063</td>\n      <td>0.013061</td>\n      <td>0.0</td>\n      <td>0.208333</td>\n      <td>0.75</td>\n    </tr>\n    <tr>\n      <th>4</th>\n      <td>0.979063</td>\n      <td>0.011750</td>\n      <td>0.972277</td>\n      <td>0.011381</td>\n      <td>0.0</td>\n      <td>0.194444</td>\n      <td>1.00</td>\n    </tr>\n  </tbody>\n</table>\n</div>"
     },
     "execution_count": 113,
     "metadata": {},
     "output_type": "execute_result"
    }
   ],
   "source": [
    "X_fr_corr = X[[\"max\", \"std\", \"mean_three_best\", \"percent_diff_recent_best\", \"no_mark_rate\", \"count\", \"year\"]]\n",
    "X_fr_corr.head(5)"
   ]
  },
  {
   "cell_type": "markdown",
   "source": [
    "## Decision Tree Feature Importance\n",
    "\n",
    "While decision trees will not be one of the models I use for predictions, we can still use it for feature reduction. This decision three will not include controls such as shrinking the depth or number of leaf nodes so we only obtain value from the feature importances not the predictions."
   ],
   "metadata": {
    "collapsed": false,
    "pycharm": {
     "name": "#%% md\n"
    }
   }
  },
  {
   "cell_type": "code",
   "execution_count": 12,
   "outputs": [],
   "source": [
    "from sklearn.tree import DecisionTreeClassifier"
   ],
   "metadata": {
    "collapsed": false,
    "pycharm": {
     "name": "#%%\n"
    }
   }
  },
  {
   "cell_type": "code",
   "execution_count": 116,
   "outputs": [
    {
     "name": "stdout",
     "output_type": "stream",
     "text": [
      "[('max', 0.242), ('percent_diff_recent_best', 0.135), ('percent_diff_recent_worst', 0.132), ('min', 0.093), ('std', 0.067), ('count', 0.066), ('mean_three_recent', 0.062), ('mean_three_worst', 0.054), ('no_mark_rate', 0.047), ('mean_three_best', 0.044)]\n"
     ]
    }
   ],
   "source": [
    "dt_features = DecisionTreeClassifier(random_state=0, class_weight=\"balanced\")\n",
    "dt_features.fit(X, y_all_am)\n",
    "print(sorted([(pair[0], round(pair[1], 3)) for pair in zip(X.columns, dt_features.feature_importances_)], reverse=True, key=lambda tup: tup[1])[:10])"
   ],
   "metadata": {
    "collapsed": false,
    "pycharm": {
     "name": "#%%\n"
    }
   }
  },
  {
   "cell_type": "markdown",
   "source": [
    "The feature importance values here align with what we found in the correlation tests. Namely, max is the most important feature with count and percent_diff_recent_best also being relevant. So, if we combine what we know so far a feature reduced dataset should only include the columns `max, std, percent_diff_recent_best, no_mark_rate, count, year`. Given this, there is no change to the feature reduced dataset"
   ],
   "metadata": {
    "collapsed": false,
    "pycharm": {
     "name": "#%% md\n"
    }
   }
  },
  {
   "cell_type": "code",
   "execution_count": 14,
   "outputs": [
    {
     "data": {
      "text/plain": "        max       std  mean_three_best  percent_diff_recent_best  \\\n0  0.982000  0.011727         0.979063                  0.013292   \n1  1.003064  0.011425         0.974206                  0.000230   \n2  0.974206  0.015418         0.974206                  0.015742   \n3  0.987928  0.013936         0.979063                  0.013061   \n4  0.979063  0.011750         0.972277                  0.011381   \n\n   no_mark_rate     count  year  \n0           0.0  0.180556  0.50  \n1           0.0  0.083333  0.25  \n2           0.0  0.180556  0.50  \n3           0.0  0.208333  0.75  \n4           0.0  0.194444  1.00  ",
      "text/html": "<div>\n<style scoped>\n    .dataframe tbody tr th:only-of-type {\n        vertical-align: middle;\n    }\n\n    .dataframe tbody tr th {\n        vertical-align: top;\n    }\n\n    .dataframe thead th {\n        text-align: right;\n    }\n</style>\n<table border=\"1\" class=\"dataframe\">\n  <thead>\n    <tr style=\"text-align: right;\">\n      <th></th>\n      <th>max</th>\n      <th>std</th>\n      <th>mean_three_best</th>\n      <th>percent_diff_recent_best</th>\n      <th>no_mark_rate</th>\n      <th>count</th>\n      <th>year</th>\n    </tr>\n  </thead>\n  <tbody>\n    <tr>\n      <th>0</th>\n      <td>0.982000</td>\n      <td>0.011727</td>\n      <td>0.979063</td>\n      <td>0.013292</td>\n      <td>0.0</td>\n      <td>0.180556</td>\n      <td>0.50</td>\n    </tr>\n    <tr>\n      <th>1</th>\n      <td>1.003064</td>\n      <td>0.011425</td>\n      <td>0.974206</td>\n      <td>0.000230</td>\n      <td>0.0</td>\n      <td>0.083333</td>\n      <td>0.25</td>\n    </tr>\n    <tr>\n      <th>2</th>\n      <td>0.974206</td>\n      <td>0.015418</td>\n      <td>0.974206</td>\n      <td>0.015742</td>\n      <td>0.0</td>\n      <td>0.180556</td>\n      <td>0.50</td>\n    </tr>\n    <tr>\n      <th>3</th>\n      <td>0.987928</td>\n      <td>0.013936</td>\n      <td>0.979063</td>\n      <td>0.013061</td>\n      <td>0.0</td>\n      <td>0.208333</td>\n      <td>0.75</td>\n    </tr>\n    <tr>\n      <th>4</th>\n      <td>0.979063</td>\n      <td>0.011750</td>\n      <td>0.972277</td>\n      <td>0.011381</td>\n      <td>0.0</td>\n      <td>0.194444</td>\n      <td>1.00</td>\n    </tr>\n  </tbody>\n</table>\n</div>"
     },
     "execution_count": 14,
     "metadata": {},
     "output_type": "execute_result"
    }
   ],
   "source": [
    "X_fr = X_fr_corr\n",
    "X_fr_scaled = X_scaled[X_fr.columns]\n",
    "X_fr.head()"
   ],
   "metadata": {
    "collapsed": false,
    "pycharm": {
     "name": "#%%\n"
    }
   }
  },
  {
   "cell_type": "markdown",
   "metadata": {
    "pycharm": {
     "name": "#%% md\n"
    }
   },
   "source": [
    "### PCA\n",
    "In addition to the selective feature reductions we are going to try PCA. As we have already seen the single features such as `max` or `mean_three_best` are pretty powerful so one would expect the PCA decompisition to be fairly effective with few components. Additionally, I will try PCA on our vanilla, scaled, and feature reduced dataset to compare them and see if we should make multiple transformation to the data."
   ]
  },
  {
   "cell_type": "code",
   "execution_count": 15,
   "metadata": {
    "pycharm": {
     "name": "#%%\n"
    }
   },
   "outputs": [],
   "source": [
    "from sklearn.decomposition import PCA"
   ]
  },
  {
   "cell_type": "code",
   "execution_count": 16,
   "metadata": {
    "pycharm": {
     "name": "#%%\n"
    }
   },
   "outputs": [
    {
     "data": {
      "text/plain": "array([0.5363202 , 0.79807738, 0.95851262, 0.97844427, 0.99559703,\n       0.99838493, 0.99927716, 0.99973622, 0.99985991, 0.9999376 ,\n       0.99998206, 1.        , 1.        ])"
     },
     "execution_count": 16,
     "metadata": {},
     "output_type": "execute_result"
    }
   ],
   "source": [
    "# 99% variance with 5 features\n",
    "pca = PCA(n_components=X.shape[1])\n",
    "X_pca = pca.fit_transform(X)\n",
    "np.cumsum(pca.explained_variance_ratio_)"
   ]
  },
  {
   "cell_type": "code",
   "execution_count": 17,
   "metadata": {
    "pycharm": {
     "name": "#%%\n"
    }
   },
   "outputs": [
    {
     "data": {
      "text/plain": "array([0.71956614, 0.93331849, 0.963029  , 0.98342368, 0.99504626,\n       0.99798369, 0.99902705, 0.99949987, 0.99980473, 0.99991648,\n       0.99998495, 1.        , 1.        ])"
     },
     "execution_count": 17,
     "metadata": {},
     "output_type": "execute_result"
    }
   ],
   "source": [
    "# Try PCA with all scaled\n",
    "# 99% variance with 7 features\n",
    "pca_scaled = PCA(n_components=X_scaled.shape[1])\n",
    "X_pca_scaled = pca_scaled.fit(X_scaled)\n",
    "np.cumsum(pca_scaled.explained_variance_ratio_)"
   ]
  },
  {
   "cell_type": "code",
   "execution_count": 19,
   "outputs": [
    {
     "data": {
      "text/plain": "array([0.85224582, 0.93433934, 0.96366531, 0.98694513, 0.99753656,\n       0.99936495, 1.        ])"
     },
     "execution_count": 19,
     "metadata": {},
     "output_type": "execute_result"
    }
   ],
   "source": [
    "# The scaled set selected by feature reduction is very notably stronger with the first component and very slightly better on the second component.\n",
    "# It also gets to the 99% variance by the 5th component so there is nothing too\n",
    "pca_corr = PCA(n_components=X_fr_scaled.shape[1])\n",
    "pca_corr.fit(X_scaled[X_fr_scaled.columns])\n",
    "np.cumsum(pca_corr.explained_variance_ratio_)"
   ],
   "metadata": {
    "collapsed": false,
    "pycharm": {
     "name": "#%%\n"
    }
   }
  },
  {
   "cell_type": "markdown",
   "metadata": {
    "pycharm": {
     "name": "#%% md\n"
    }
   },
   "source": [
    "In conclusion, PCA should be effective for our data. However, because the dataset is small and already has few impactful features I am not planning to use it."
   ]
  },
  {
   "cell_type": "markdown",
   "metadata": {
    "pycharm": {
     "name": "#%% md\n"
    }
   },
   "source": [
    "# Visualization\n",
    "\n",
    "While not originally planned, because the PCA explained_variance of two features was higher than expected I wanted to try visualizing the data projected into two dimensions."
   ]
  },
  {
   "cell_type": "code",
   "execution_count": 120,
   "metadata": {
    "pycharm": {
     "name": "#%%\n"
    }
   },
   "outputs": [
    {
     "data": {
      "text/plain": "<Figure size 640x480 with 1 Axes>",
      "image/png": "[encoded data removed]"
     },
     "metadata": {},
     "output_type": "display_data"
    }
   ],
   "source": [
    "data = X_fr\n",
    "viz_pca = PCA(n_components=2)\n",
    "points = viz_pca.fit_transform(data)\n",
    "\n",
    "colors = [\"blue\" if x == 1 else \"orange\" for x in y_all_am]\n",
    "all_am_indexes = y_all_am == 1\n",
    "\n",
    "plt.scatter(x=points[all_am_indexes,0], y=points[all_am_indexes,1], c=\"blue\")\n",
    "plt.scatter(x=points[np.invert(all_am_indexes),0], y=points[np.invert(all_am_indexes),1], c=\"orange\", alpha=0.5)\n",
    "plt.legend([\"All American\", \"Not All American\"])\n",
    "plt.title(\"Data projected into two components\")\n",
    "plt.xlabel(\"Principal component 1\")\n",
    "plt.ylabel(\"Principal component 2\")\n",
    "plt.show()"
   ]
  },
  {
   "cell_type": "markdown",
   "metadata": {
    "pycharm": {
     "name": "#%% md\n"
    }
   },
   "source": [
    "While we can clearly see the two orthogonal bases here unfortunately the projection into two dimensions only gives a discouraging sign as to the class seperability."
   ]
  },
  {
   "cell_type": "markdown",
   "metadata": {
    "pycharm": {
     "name": "#%% md\n"
    }
   },
   "source": [
    "# Train Test Split\n",
    "\n",
    "Splitting for this dataset is mildly tricky. We are assuming that event doesn't matter for predictions but we ultimately need a ranking within the event groups. With there being 18 event groups I want to split the data by 13 events for training and 5 for test which is about 72%, 28% train test split. If we want a validation set we can select 3 events from training to be a validation set.\n",
    "\n",
    "When we do cross validation for hyperparameter tuning in part 4 we will be making multiple splits. However, we only need one for now to determine the best model to go forward with."
   ]
  },
  {
   "cell_type": "code",
   "execution_count": 22,
   "outputs": [
    {
     "name": "stdout",
     "output_type": "stream",
     "text": [
      "(311, 7)\n",
      "(311, 13)\n"
     ]
    }
   ],
   "source": [
    "import random\n",
    "random.seed(0)\n",
    "\n",
    "def train_test_split_on_event(x_type=\"scaled\", y_type=\"all_am\", num_test_events=5):\n",
    "    # We can try the binary classification or continuous target variable.\n",
    "    y_data = y_all_am if y_type.lower() == \"all_am\" else y_score\n",
    "\n",
    "    # There are multiple options to try for our data. We will try some but also explore more in part 4.\n",
    "    x_type = x_type.lower()\n",
    "    if x_type == \"scaled\":\n",
    "        X_data = X_scaled\n",
    "    elif x_type == \"fr\":\n",
    "        X_data = X_fr\n",
    "    elif x_type == \"fr_scaled\":\n",
    "        X_data = X_fr_scaled\n",
    "    elif x_type == \"pca\":\n",
    "        X_data = X_pca\n",
    "    elif x_type == \"pca_scaled\":\n",
    "        X_data = X_pca_scaled\n",
    "    else:\n",
    "        X_data = X\n",
    "\n",
    "    # Generate numbers to split on\n",
    "    test_numbers = random.choices(range(18), k=num_test_events)\n",
    "\n",
    "    test_indices = df[df[\"event_num\"].isin(test_numbers)].index\n",
    "    X_test = X_data.iloc[test_indices]\n",
    "    y_test = y_data.iloc[test_indices]\n",
    "\n",
    "    train_indices = df[~df[\"event_num\"].isin(test_numbers)].index\n",
    "    X_train = X_data.iloc[train_indices]\n",
    "    y_train = y_data.iloc[train_indices]\n",
    "\n",
    "    return X_train, X_test, y_train, y_test\n",
    "\n",
    "X_fr_train, X_fr_test, y_train, y_test = train_test_split_on_event(x_type=\"fr\", y_type=\"all_am\")\n",
    "print(X_fr_train.shape)\n",
    "X_scaled_train, X_scaled_test, _, _ = train_test_split_on_event(x_type=\"scaled\", y_type=\"all_am\")\n",
    "print(X_scaled_train.shape)"
   ],
   "metadata": {
    "collapsed": false,
    "pycharm": {
     "name": "#%%\n"
    }
   }
  },
  {
   "cell_type": "markdown",
   "source": [
    "As you can see, there are many possible different permutations of the data to consider. However, I will focus more on the feature reduced dataset and the scaled dataset as they both are transformations from part 2. Moreover, based on the PCA cumulative variances both datasets should show improvements over the vanilla dataset."
   ],
   "metadata": {
    "collapsed": false,
    "pycharm": {
     "name": "#%% md\n"
    }
   }
  },
  {
   "cell_type": "markdown",
   "metadata": {
    "pycharm": {
     "name": "#%% md\n"
    }
   },
   "source": [
    "# Model 1 - Spectral Clustering\n",
    "For the unsupervised model I wanted to select a model I haven't used before and I landed on spectral clustering because I appreciate graphs and because it has many hyperparameters to  tune."
   ]
  },
  {
   "cell_type": "markdown",
   "source": [
    "### Setup\n",
    "In addition to importing the model we are going to use I am going to import two metrics recommend by [sklearn documentation](https://scikit-learn.org/stable/modules/clustering.html#clustering-performance-evaluation)."
   ],
   "metadata": {
    "collapsed": false,
    "pycharm": {
     "name": "#%% md\n"
    }
   }
  },
  {
   "cell_type": "code",
   "execution_count": 23,
   "outputs": [],
   "source": [
    "from sklearn.cluster import SpectralClustering\n",
    "from sklearn.metrics import rand_score, fowlkes_mallows_score"
   ],
   "metadata": {
    "collapsed": false,
    "pycharm": {
     "name": "#%%\n"
    }
   }
  },
  {
   "cell_type": "markdown",
   "source": [
    "While we can use the sklearn recommend metrics for evaluating unsupervised clusters, there is a way to recover the multiclass labels of the clustering algorithm into the binary classification we have. If we try the different combinations of flattening the labels to binary labels (example here)\n",
    "```\n",
    "Mapping = (0, 2)\n",
    "Predicted = [0, 1, 1, 2, 0, 2, 3, 1]\n",
    "Mapped    = [1, 0, 0, 1, 0, 1, 0, 0]\n",
    "```\n",
    "we can then use our traditional supervised learning metrics. Crucially, we know that we want to predict about 8 out of 24 athletes to be all_american. So, we want to find the permutation of the labels which will assign about 1/3rd of the labels to our positive class."
   ],
   "metadata": {
    "collapsed": false,
    "pycharm": {
     "name": "#%% md\n"
    }
   }
  },
  {
   "cell_type": "code",
   "execution_count": 132,
   "outputs": [],
   "source": [
    "# Taken from https://stackoverflow.com/questions/1482308/how-to-get-all-subsets-of-a-set-powerset\n",
    "from sklearn.metrics import f1_score\n",
    "from itertools import chain, combinations\n",
    "\n",
    "def powerset(iterable):\n",
    "    s = list(iterable)\n",
    "    return chain.from_iterable(combinations(s, r) for r in range(len(s)+1))\n",
    "\n",
    "def best_mapping(clf, y_actual):\n",
    "    k_powerset = list(powerset(range(clf.n_clusters)))\n",
    "    mapped = [[1 if label in mapping else 0 for label in clf.labels_] for mapping in k_powerset]\n",
    "    mapped_scores = [(k_powerset[i], round(f1_score(preds, y_actual), 3), round(np.mean(preds), 3)) for i, preds in enumerate(mapped)]\n",
    "    return sorted(mapped_scores, key=lambda tup: tup[1], reverse=True)\n",
    "    #return filter(lambda vals: 0.3 < vals[2] < 0.4, sorted(mapped_scores, key=lambda tup: tup[1], reverse=True))\n",
    "\n",
    "def print_clustering_metrics(labels_pred, y_train):\n",
    "    print(f\"\\tRand score {round(rand_score(labels_pred, y_train), 3)}\")\n",
    "    print(f\"\\tFowlkes Mallows score {round(fowlkes_mallows_score(labels_pred, y_train), 3)}\")\n",
    "    print(f\"\\tBest (mapping, f1_score, percent_positive) {list(best_mapping(clustering, y_train))[:1]}\")\n",
    "    return None"
   ],
   "metadata": {
    "collapsed": false,
    "pycharm": {
     "name": "#%%\n"
    }
   }
  },
  {
   "cell_type": "markdown",
   "source": [
    "### Model Training"
   ],
   "metadata": {
    "collapsed": false,
    "pycharm": {
     "name": "#%% md\n"
    }
   }
  },
  {
   "cell_type": "code",
   "execution_count": 133,
   "outputs": [
    {
     "name": "stdout",
     "output_type": "stream",
     "text": [
      "Feature reduced data\n",
      "\tRand score 0.472\n",
      "\tFowlkes Mallows score 0.361\n",
      "\tBest (mapping, f1_score, percent_positive) [((0, 1, 4), 0.514, 0.592)]\n",
      "\n",
      "Scaled data\n",
      "\tRand score 0.47\n",
      "\tFowlkes Mallows score 0.349\n",
      "\tBest (mapping, f1_score, percent_positive) [((0, 2, 3, 4), 0.515, 0.852)]\n"
     ]
    }
   ],
   "source": [
    "# From our PCA we saw that it reached 99% variance with so 5 components, so we will try that many clusters\n",
    "X_train, _, y_train, _ = train_test_split_on_event(x_type=\"fr\")\n",
    "clustering = SpectralClustering(n_clusters=5, assign_labels=\"cluster_qr\", random_state=0).fit(X_train)\n",
    "labels_pred = clustering.labels_\n",
    "\n",
    "print(\"Feature reduced data\")\n",
    "print_clustering_metrics(labels_pred, y_train)\n",
    "\n",
    "X_train, _, y_train, _, = train_test_split_on_event(x_type=\"scaled\")\n",
    "clustering = SpectralClustering(n_clusters=5, assign_labels=\"cluster_qr\", random_state=0).fit(X_train)\n",
    "labels_pred = clustering.labels_\n",
    "\n",
    "print(\"\\nScaled data\")\n",
    "print_clustering_metrics(labels_pred, y_train)"
   ],
   "metadata": {
    "collapsed": false,
    "pycharm": {
     "name": "#%%\n"
    }
   }
  },
  {
   "cell_type": "markdown",
   "source": [
    "The two datasets have similar performance here with the feature reduced dataset having a slight edge in the unsupervised metrics and a much more reasonable percent of positive predictions. However, their performance is not very noteworthy when compared to our high basline. I want to see if we can tune the model further using the feature reduced dataset because the number of labels for SpectralClustering is at most the number of features."
   ],
   "metadata": {
    "collapsed": false,
    "pycharm": {
     "name": "#%% md\n"
    }
   }
  },
  {
   "cell_type": "code",
   "execution_count": 134,
   "outputs": [
    {
     "name": "stdout",
     "output_type": "stream",
     "text": [
      "Feature reduced data 2 clusters\n",
      "\tRand score 0.502\n",
      "\tFowlkes Mallows score 0.546\n",
      "\tBest (mapping, f1_score, percent_positive) [((0, 1), 0.501, 1.0)]\n",
      "\n",
      "Feature reduced data 7 clusters\n",
      "\tRand score 0.463\n",
      "\tFowlkes Mallows score 0.319\n",
      "\tBest (mapping, f1_score, percent_positive) [((2, 3, 4, 5, 6), 0.505, 0.836)]\n"
     ]
    }
   ],
   "source": [
    "# Decrease the number of clusters\n",
    "clustering = SpectralClustering(n_clusters=2, random_state=0).fit(X_fr_train)\n",
    "labels_pred = clustering.labels_\n",
    "\n",
    "print(\"Feature reduced data 2 clusters\")\n",
    "print_clustering_metrics(labels_pred, y_train)\n",
    "\n",
    "# Increase the number of clusters\n",
    "clustering = SpectralClustering(n_clusters=X_fr_train.shape[1], random_state=0).fit(X_fr_train)\n",
    "labels_pred = clustering.labels_\n",
    "\n",
    "print(f\"\\nFeature reduced data {X_fr_train.shape[1]} clusters\")\n",
    "print_clustering_metrics(labels_pred, y_train)"
   ],
   "metadata": {
    "collapsed": false,
    "pycharm": {
     "name": "#%%\n"
    }
   }
  },
  {
   "cell_type": "markdown",
   "source": [
    "The model performs better on the sklearn recommend metrics with two clusters however five clusters still seems to be the best based on my custom metrics. So, we will fix the number of clusters and play with other hyperparameters."
   ],
   "metadata": {
    "collapsed": false,
    "pycharm": {
     "name": "#%% md\n"
    }
   }
  },
  {
   "cell_type": "code",
   "execution_count": 135,
   "outputs": [
    {
     "name": "stdout",
     "output_type": "stream",
     "text": [
      "\n",
      "Five clusters with nearest_neighbors affinity 7\n",
      "\tRand score 0.474\n",
      "\tFowlkes Mallows score 0.374\n",
      "\tBest (mapping, f1_score, percent_positive) [((0, 1, 2, 3), 0.513, 0.945)]\n",
      "\n",
      "Five clusters with degree 3 polynomial kernel and discretize labels\n",
      "\tRand score 0.471\n",
      "\tFowlkes Mallows score 0.353\n",
      "\tBest (mapping, f1_score, percent_positive) [((0, 1, 3), 0.525, 0.768)]\n"
     ]
    },
    {
     "name": "stderr",
     "output_type": "stream",
     "text": [
      "C:\\Users\\mark3\\AppData\\Local\\Packages\\PythonSoftwareFoundation.Python.3.9_qbz5n2kfra8p0\\LocalCache\\local-packages\\Python39\\site-packages\\sklearn\\manifold\\_spectral_embedding.py:259: UserWarning: Graph is not fully connected, spectral embedding may not work as expected.\n",
      "  warnings.warn(\n"
     ]
    }
   ],
   "source": [
    "# Try a different affinity measure\n",
    "clustering = SpectralClustering(\n",
    "    n_clusters=5,\n",
    "    affinity=\"nearest_neighbors\",\n",
    "    random_state=0\n",
    "    ).fit(X_fr_train)\n",
    "labels_pred = clustering.labels_\n",
    "print(f\"\\nFive clusters with nearest_neighbors affinity {X_fr_train.shape[1]}\")\n",
    "print_clustering_metrics(labels_pred, y_train)\n",
    "\n",
    "# Use a kernel and different method of assigning labels\n",
    "clustering = SpectralClustering(\n",
    "    n_clusters=5,\n",
    "    affinity=\"poly\",\n",
    "    degree=3,\n",
    "    assign_labels=\"discretize\",\n",
    "    random_state=0\n",
    "    ).fit(X_fr_train)\n",
    "labels_pred = clustering.labels_\n",
    "\n",
    "print(f\"\\nFive clusters with degree 3 polynomial kernel and discretize labels\")\n",
    "print_clustering_metrics(labels_pred, y_train)"
   ],
   "metadata": {
    "collapsed": false,
    "pycharm": {
     "name": "#%%\n"
    }
   }
  },
  {
   "cell_type": "markdown",
   "source": [
    "### Spectral Clustering conclusion\n",
    "\n",
    "There are many different permutations of hyperparameters to try here. However, there seems to be a wall at around 0.5 for the scores. While the hyperparameter turning did slightly help, given how well the baseline performed I think we can conclude that this model is not a good for the data."
   ],
   "metadata": {
    "collapsed": false,
    "pycharm": {
     "name": "#%% md\n"
    }
   }
  },
  {
   "cell_type": "markdown",
   "metadata": {
    "pycharm": {
     "name": "#%% md\n"
    }
   },
   "source": [
    "# Model 2 - Logistic Regression\n",
    "\n",
    "Since athlete performance will naturally vary it makes sense to predict a probability that an athlete will finish as an all american. Thus, logistic regression is a natural choice of model for our first supervised model."
   ]
  },
  {
   "cell_type": "markdown",
   "source": [
    "### Feature reduction and training\n",
    "\n",
    "Because we have a small dataset it is actually feasible to perform an exhaustive search for the optimal feature set. I will be using the forward direction because as our baseline showed even one column is very powerful. Additionally, I will be using the f1_score metric because the labels are inbalanced thus we need a more robust metric than accuracy. If we set the number of features to be 7 based on our earlier feature reduction we get"
   ],
   "metadata": {
    "collapsed": false,
    "pycharm": {
     "name": "#%% md\n"
    }
   }
  },
  {
   "cell_type": "code",
   "execution_count": 68,
   "outputs": [],
   "source": [
    "from sklearn.linear_model import LogisticRegression\n",
    "from sklearn.feature_selection import SequentialFeatureSelector\n",
    "from sklearn.metrics import make_scorer\n",
    "\n",
    "X_train, X_test, y_train, y_test = train_test_split_on_event(x_type=\"scaled\", y_type=\"all_am\")"
   ],
   "metadata": {
    "collapsed": false,
    "pycharm": {
     "name": "#%%\n"
    }
   }
  },
  {
   "cell_type": "code",
   "execution_count": 136,
   "outputs": [
    {
     "name": "stdout",
     "output_type": "stream",
     "text": [
      "['min' 'max' 'std' 'mean_three_best' 'mean_three_worst'\n",
      " 'percent_diff_recent_worst' 'no_mark_rate']\n"
     ]
    }
   ],
   "source": [
    "lr = LogisticRegression(class_weight=\"balanced\")\n",
    "f1_scorer = make_scorer(f1_score)\n",
    "sfs = SequentialFeatureSelector(lr, n_features_to_select=7, direction=\"forward\", scoring=f1_scorer, cv=5)\n",
    "sfs = sfs.fit(X_train, y_train)\n",
    "print(sfs.get_feature_names_out())"
   ],
   "metadata": {
    "collapsed": false,
    "pycharm": {
     "name": "#%%\n"
    }
   }
  },
  {
   "cell_type": "markdown",
   "source": [
    "which when compared to our original"
   ],
   "metadata": {
    "collapsed": false,
    "pycharm": {
     "name": "#%% md\n"
    }
   }
  },
  {
   "cell_type": "code",
   "execution_count": 30,
   "outputs": [
    {
     "data": {
      "text/plain": "Index(['max', 'std', 'mean_three_best', 'percent_diff_recent_best',\n       'no_mark_rate', 'count', 'year'],\n      dtype='object')"
     },
     "execution_count": 30,
     "metadata": {},
     "output_type": "execute_result"
    }
   ],
   "source": [
    "X_fr.columns"
   ],
   "metadata": {
    "collapsed": false,
    "pycharm": {
     "name": "#%%\n"
    }
   }
  },
  {
   "cell_type": "markdown",
   "source": [
    "show that the two are very close sharing five features in common. Additionally, if we re-run this selection again to auto select based on a tolerance we get the following features:"
   ],
   "metadata": {
    "collapsed": false,
    "pycharm": {
     "name": "#%% md\n"
    }
   }
  },
  {
   "cell_type": "code",
   "execution_count": 59,
   "outputs": [
    {
     "name": "stdout",
     "output_type": "stream",
     "text": [
      "['min' 'std' 'mean_three_worst' 'percent_diff_recent_best'\n",
      " 'percent_diff_recent_worst' 'no_mark_rate']\n"
     ]
    }
   ],
   "source": [
    "lr = LogisticRegression(class_weight=\"balanced\")\n",
    "f1_scorer = make_scorer(f1_score)\n",
    "sfs = SequentialFeatureSelector(lr, n_features_to_select=\"auto\", direction=\"forward\", scoring=f1_scorer, cv=5)\n",
    "sfs = sfs.fit(X_train, y_train)\n",
    "print(sfs.get_feature_names_out())"
   ],
   "metadata": {
    "collapsed": false,
    "pycharm": {
     "name": "#%%\n"
    }
   }
  },
  {
   "cell_type": "markdown",
   "source": [
    "which we will use to create a dataset dubbed X_sequential for evaluation of logistic regression."
   ],
   "metadata": {
    "collapsed": false,
    "pycharm": {
     "name": "#%% md\n"
    }
   }
  },
  {
   "cell_type": "markdown",
   "source": [
    "### Logistic Regression Evaluation"
   ],
   "metadata": {
    "collapsed": false,
    "pycharm": {
     "name": "#%% md\n"
    }
   }
  },
  {
   "cell_type": "code",
   "execution_count": 46,
   "outputs": [
    {
     "name": "stdout",
     "output_type": "stream",
     "text": [
      "[('min', 1.772), ('std', 0.884), ('percent_diff_recent_best', 0.735), ('count', 0.712), ('percent_diff_recent_worst', 0.352), ('no_mark_rate', -0.829)]\n"
     ]
    }
   ],
   "source": [
    "# See the feature importances\n",
    "X_sequential = sfs.transform(X_train)\n",
    "lr.fit(X_sequential, y_train)\n",
    "print(sorted([(x, round(y, 3)) for x, y in zip(sfs.get_feature_names_out(), lr.coef_[0])], key=lambda tup: tup[1], reverse=True))"
   ],
   "metadata": {
    "collapsed": false,
    "pycharm": {
     "name": "#%%\n"
    }
   }
  },
  {
   "cell_type": "code",
   "execution_count": 47,
   "outputs": [
    {
     "name": "stdout",
     "output_type": "stream",
     "text": [
      "Logistic regression with default params\n",
      "\tf1 score: 0.5091\n",
      "\tpercent positive: 0.5498\n",
      "\tall american accuracy 0.5\n"
     ]
    }
   ],
   "source": [
    "# Get the scores\n",
    "labels_pred = lr.predict(X_sequential)\n",
    "prob_preds = lr.predict_proba(X_sequential)[:, 1] # gives probability for 0 then 1\n",
    "print(\"Logistic regression with default params\")\n",
    "print(f\"\\tf1 score: {round(f1_score(labels_pred, y_train), 4)}\")\n",
    "print(f\"\\tpercent positive: {round(np.mean(labels_pred), 4)}\")\n",
    "print(f\"\\tall american accuracy {percent_all_american_score(None, prob_preds, X_train.index)}\")"
   ],
   "metadata": {
    "collapsed": false,
    "pycharm": {
     "name": "#%%\n"
    }
   }
  },
  {
   "cell_type": "markdown",
   "source": [
    "The sequentially selected data gives us shockingly similar values for our metrics. However, the 56% positive is concerning as the goal is 33%. So, we will adjust the regularization to see if we can get better performances"
   ],
   "metadata": {
    "collapsed": false,
    "pycharm": {
     "name": "#%% md\n"
    }
   }
  },
  {
   "cell_type": "code",
   "execution_count": 48,
   "outputs": [
    {
     "name": "stdout",
     "output_type": "stream",
     "text": [
      "Logistic regression with C=0.01\n",
      "\tf1 score: 0.4809\n",
      "\tpercent positive: 0.508\n",
      "\tall american accuracy 0.4423076923076923\n",
      "\n",
      "Logistic regression with C=0.1\n",
      "\tf1 score: 0.4867\n",
      "\tpercent positive: 0.5113\n",
      "\tall american accuracy 0.46153846153846156\n",
      "\n",
      "Logistic regression with C=1\n",
      "\tf1 score: 0.5091\n",
      "\tpercent positive: 0.5498\n",
      "\tall american accuracy 0.5\n",
      "\n",
      "Logistic regression with C=10\n",
      "\tf1 score: 0.5199\n",
      "\tpercent positive: 0.5563\n",
      "\tall american accuracy 0.5673076923076923\n",
      "\n"
     ]
    }
   ],
   "source": [
    "for C in [0.01, 0.1, 1, 10]:\n",
    "    clf = LogisticRegression(C=C, class_weight=\"balanced\")\n",
    "    clf.fit(X_sequential, y_train)\n",
    "\n",
    "    labels_pred = clf.predict(X_sequential)\n",
    "    prob_preds = clf.predict_proba(X_sequential)[:, 1] # gives probability for 0 then 1\n",
    "    print(f\"Logistic regression with C={C}\")\n",
    "    print(f\"\\tf1 score: {round(f1_score(labels_pred, y_train), 4)}\")\n",
    "    print(f\"\\tpercent positive: {round(np.mean(labels_pred), 4)}\")\n",
    "    print(f\"\\tall american accuracy {percent_all_american_score(None, prob_preds, X_train.index)}\\n\")"
   ],
   "metadata": {
    "collapsed": false,
    "pycharm": {
     "name": "#%%\n"
    }
   }
  },
  {
   "cell_type": "markdown",
   "source": [
    "### Logistic Regression Conclusion\n",
    "While lowering the regularization did improve the model performance on training data it is still not ideal. The accuracy is respectable only because it is predicting too many positive labels (note that training on full feature set increased the ratio of positive predictions even further). So, even though logistic regression confirmed that we do not need many of the features collected it still did not beat our very high baseline and does not fit the data."
   ],
   "metadata": {
    "collapsed": false,
    "pycharm": {
     "name": "#%% md\n"
    }
   }
  },
  {
   "cell_type": "markdown",
   "metadata": {
    "pycharm": {
     "name": "#%% md\n"
    }
   },
   "source": [
    "## Model 3 - SVM\n",
    "\n",
    "For the final model I want to go with SVM. The reasons for this are twofold: First, given that the two previous models have not been excellent I am hoping that the SVM kernel will bring out separability from the data. Additionally, SVM gives us a new tool in the form of regression. To recall, I prepared a \"continuous\" target variable `score` which we can try in addition to the binary target variable to see if this more rich data creates better predictions."
   ]
  },
  {
   "cell_type": "code",
   "execution_count": 35,
   "outputs": [
    {
     "data": {
      "text/plain": "  event  place     score  all_american\n0   100      1  1.000000             1\n1   100      2  0.958333             1\n2   100      3  0.916667             1\n3   100      4  0.875000             1\n4   100      5  0.833333             1\n5   100      6  0.791667             1\n6   100      7  0.750000             1\n7   100      8  0.708333             1\n8   100      9  0.666667             0\n9   100     10  0.625000             0",
      "text/html": "<div>\n<style scoped>\n    .dataframe tbody tr th:only-of-type {\n        vertical-align: middle;\n    }\n\n    .dataframe tbody tr th {\n        vertical-align: top;\n    }\n\n    .dataframe thead th {\n        text-align: right;\n    }\n</style>\n<table border=\"1\" class=\"dataframe\">\n  <thead>\n    <tr style=\"text-align: right;\">\n      <th></th>\n      <th>event</th>\n      <th>place</th>\n      <th>score</th>\n      <th>all_american</th>\n    </tr>\n  </thead>\n  <tbody>\n    <tr>\n      <th>0</th>\n      <td>100</td>\n      <td>1</td>\n      <td>1.000000</td>\n      <td>1</td>\n    </tr>\n    <tr>\n      <th>1</th>\n      <td>100</td>\n      <td>2</td>\n      <td>0.958333</td>\n      <td>1</td>\n    </tr>\n    <tr>\n      <th>2</th>\n      <td>100</td>\n      <td>3</td>\n      <td>0.916667</td>\n      <td>1</td>\n    </tr>\n    <tr>\n      <th>3</th>\n      <td>100</td>\n      <td>4</td>\n      <td>0.875000</td>\n      <td>1</td>\n    </tr>\n    <tr>\n      <th>4</th>\n      <td>100</td>\n      <td>5</td>\n      <td>0.833333</td>\n      <td>1</td>\n    </tr>\n    <tr>\n      <th>5</th>\n      <td>100</td>\n      <td>6</td>\n      <td>0.791667</td>\n      <td>1</td>\n    </tr>\n    <tr>\n      <th>6</th>\n      <td>100</td>\n      <td>7</td>\n      <td>0.750000</td>\n      <td>1</td>\n    </tr>\n    <tr>\n      <th>7</th>\n      <td>100</td>\n      <td>8</td>\n      <td>0.708333</td>\n      <td>1</td>\n    </tr>\n    <tr>\n      <th>8</th>\n      <td>100</td>\n      <td>9</td>\n      <td>0.666667</td>\n      <td>0</td>\n    </tr>\n    <tr>\n      <th>9</th>\n      <td>100</td>\n      <td>10</td>\n      <td>0.625000</td>\n      <td>0</td>\n    </tr>\n  </tbody>\n</table>\n</div>"
     },
     "execution_count": 35,
     "metadata": {},
     "output_type": "execute_result"
    }
   ],
   "source": [
    "df[[\"event\", \"place\", \"score\", \"all_american\"]].head(10)"
   ],
   "metadata": {
    "collapsed": false,
    "pycharm": {
     "name": "#%%\n"
    }
   }
  },
  {
   "cell_type": "markdown",
   "source": [
    "### SVC\n",
    "\n",
    "To start, we will compare the available kernels for SVM. Testing showed that the scaled dataset had better performance than either the feature reduced, plain, or sequentially selected dataset so we will be using that."
   ],
   "metadata": {
    "collapsed": false,
    "pycharm": {
     "name": "#%% md\n"
    }
   }
  },
  {
   "cell_type": "code",
   "execution_count": 94,
   "outputs": [],
   "source": [
    "from sklearn.svm import SVC\n",
    "\n",
    "X_train, X_test, y_train, y_test = train_test_split_on_event(x_type=\"scaled\", y_type=\"all_am\")"
   ],
   "metadata": {
    "collapsed": false,
    "pycharm": {
     "name": "#%%\n"
    }
   }
  },
  {
   "cell_type": "code",
   "execution_count": 37,
   "outputs": [
    {
     "name": "stdout",
     "output_type": "stream",
     "text": [
      "\n",
      "SVM with linear kernel and default parameters\n",
      "\tf1 score: 0.534\n",
      "\tpercent positive: 0.641\n",
      "\tpercent correct all american 0.616\n",
      "\n",
      "SVM with poly kernel and default parameters\n",
      "\tf1 score: 0.535\n",
      "\tpercent positive: 0.572\n",
      "\tpercent correct all american 0.661\n",
      "\n",
      "SVM with rbf kernel and default parameters\n",
      "\tf1 score: 0.518\n",
      "\tpercent positive: 0.728\n",
      "\tpercent correct all american 0.688\n",
      "\n",
      "SVM with sigmoid kernel and default parameters\n",
      "\tf1 score: 0.383\n",
      "\tpercent positive: 0.461\n",
      "\tpercent correct all american 0.42\n"
     ]
    }
   ],
   "source": [
    "for kernel in [\"linear\", \"poly\", \"rbf\", \"sigmoid\"]:\n",
    "    print(f\"\\nSVM with {kernel} kernel and default parameters\")\n",
    "\n",
    "    svm = SVC(kernel=kernel, class_weight=\"balanced\", probability=True, random_state=0)\n",
    "    svm.fit(X_train, y_train)\n",
    "    preds = svm.predict(X_train)\n",
    "    prob_preds = svm.predict_proba(X_train)[:, 1] # Gives 0 then 1\n",
    "    print(f\"\\tf1 score: {round(f1_score(y_train, preds), 3)}\")\n",
    "    print(f\"\\tpercent positive: {round(np.mean(preds), 3)}\")\n",
    "    print(f\"\\tpercent correct all american {round(percent_all_american_score(None, prob_preds, X_train.index), 3)}\")"
   ],
   "metadata": {
    "collapsed": false,
    "pycharm": {
     "name": "#%%\n"
    }
   }
  },
  {
   "cell_type": "markdown",
   "source": [
    "There are interesting results here. Notably, sigmoid kernel performs by far the wost. Compared to logistic regression every other kernel is predicting too many positive examples but maintains a better accuracy for the all american selections. Of these, polynomial kernel seems to perform the best."
   ],
   "metadata": {
    "collapsed": false,
    "pycharm": {
     "name": "#%% md\n"
    }
   }
  },
  {
   "cell_type": "markdown",
   "metadata": {
    "pycharm": {
     "name": "#%% md\n"
    }
   },
   "source": [
    "### SVR\n",
    "Based on the observation that SVC predicts the probabilities well but not the classes well I am expecting SVR to perform better as it is better suited for continuous output. We will also be import two new metrics that better fit the regression problem. Note that because the score is on a scale of 1-24 we can roughly interpret the error as the difference in predicted place."
   ]
  },
  {
   "cell_type": "code",
   "execution_count": 38,
   "outputs": [],
   "source": [
    "from sklearn.svm import SVR\n",
    "from sklearn.metrics import mean_squared_error, mean_absolute_error\n",
    "\n",
    "X_train, X_test, y_train, y_test = train_test_split_on_event(x_type=\"scaled\", y_type=\"score\")"
   ],
   "metadata": {
    "collapsed": false,
    "pycharm": {
     "name": "#%%\n"
    }
   }
  },
  {
   "cell_type": "code",
   "execution_count": 39,
   "outputs": [
    {
     "name": "stdout",
     "output_type": "stream",
     "text": [
      "\n",
      "SVR with linear kernel and default parameters\n",
      "\tMSE: 0.072 or roughly 1.728 places\n",
      "\tMAE: 0.222 or roughly 5.328 places\n",
      "\tpercent correct all american 0.577\n",
      "\n",
      "SVR with poly kernel and default parameters\n",
      "\tMSE: 0.069 or roughly 1.656 places\n",
      "\tMAE: 0.215 or roughly 5.16 places\n",
      "\tpercent correct all american 0.596\n",
      "\n",
      "SVR with rbf kernel and default parameters\n",
      "\tMSE: 0.07 or roughly 1.68 places\n",
      "\tMAE: 0.221 or roughly 5.304 places\n",
      "\tpercent correct all american 0.606\n",
      "\n",
      "SVR with sigmoid kernel and default parameters\n",
      "\tMSE: 19.068 or roughly 457.632 places\n",
      "\tMAE: 3.559 or roughly 85.416 places\n",
      "\tpercent correct all american 0.385\n"
     ]
    }
   ],
   "source": [
    "for kernel in [\"linear\", \"poly\", \"rbf\", \"sigmoid\"]:\n",
    "    print(f\"\\nSVR with {kernel} kernel and default parameters\")\n",
    "\n",
    "    svm = SVR(kernel=kernel)\n",
    "    svm.fit(X_train, y_train)\n",
    "    preds = svm.predict(X_train)\n",
    "\n",
    "    mse = round(mean_squared_error(y_train, preds), 3)\n",
    "    mae = round(mean_absolute_error(y_train, preds), 3)\n",
    "    print(f\"\\tMSE: {mse} or roughly {round(mse*24, 3)} places\")\n",
    "    print(f\"\\tMAE: {mae} or roughly {round(mae*24, 3)} places\")\n",
    "    print(f\"\\tpercent correct all american {round(percent_all_american_score(None, preds, X_train.index), 3)}\")"
   ],
   "metadata": {
    "collapsed": false,
    "pycharm": {
     "name": "#%%\n"
    }
   }
  },
  {
   "cell_type": "markdown",
   "metadata": {
    "pycharm": {
     "name": "#%% md\n"
    }
   },
   "source": [
    "Once again sigmoid kernel notably worse whereas the other are comparable with polynomial kernel doing slightly better. While the SVR gives us a more tangible result through the error the performance is not a marked improvement. If we take the best performing model of the polynomial kernel we can examine the visualize the output to see that a problem lies in the distribution of predicted values."
   ]
  },
  {
   "cell_type": "code",
   "execution_count": 40,
   "outputs": [],
   "source": [
    "svm = SVR(kernel=\"poly\")\n",
    "svm.fit(X_train, y_train)\n",
    "preds = svm.predict(X_train)"
   ],
   "metadata": {
    "collapsed": false,
    "pycharm": {
     "name": "#%%\n"
    }
   }
  },
  {
   "cell_type": "code",
   "execution_count": 41,
   "outputs": [
    {
     "data": {
      "text/plain": "<Figure size 1000x480 with 2 Axes>",
      "image/png": "[encoded data removed]"
     },
     "metadata": {},
     "output_type": "display_data"
    }
   ],
   "source": [
    "fig, (ax1, ax2) = plt.subplots(1, 2, sharey=True, sharex=True)\n",
    "fig.set_figwidth(10)\n",
    "\n",
    "# Plot actual distribution\n",
    "ax1.hist(y_train, bins=8, color=\"blue\", ec=\"black\")\n",
    "ax1.set_title(\"Actual scores\")\n",
    "ax1.set_xlabel(\"Score\")\n",
    "ax1.set_ylabel(\"Number of values\")\n",
    "\n",
    "ax2.hist(preds, bins=8, color=\"orange\", ec=\"black\")\n",
    "ax2.set_title(\"Predicted scores\")\n",
    "ax2.set_xlabel(\"Score\")\n",
    "ax2.set_ylabel(\"Number of values\")\n",
    "\n",
    "plt.show()"
   ],
   "metadata": {
    "collapsed": false,
    "pycharm": {
     "name": "#%%\n"
    }
   }
  },
  {
   "cell_type": "markdown",
   "source": [
    "Seeing that the intended distribution is perfectly normal and our model's output is clearly Guassian for my own interest I want to see if coercing the predictions into a normal distribution improves performance."
   ],
   "metadata": {
    "collapsed": false,
    "pycharm": {
     "name": "#%% md\n"
    }
   }
  },
  {
   "cell_type": "code",
   "execution_count": 42,
   "outputs": [
    {
     "name": "stdout",
     "output_type": "stream",
     "text": [
      "SVR with polynomial kernel and uniform output\n",
      "\tMSE: 0.099 or roughly 2.376 places\n",
      "\tMAE: 0.243 or roughly 5.832 places\n",
      "\tpercent correct all american 0.596\n"
     ]
    }
   ],
   "source": [
    "from sklearn.preprocessing import quantile_transform\n",
    "flattened = quantile_transform(np.array(preds).reshape(-1, 1), n_quantiles=len(preds), output_distribution=\"uniform\", random_state=0, copy=True)\n",
    "\n",
    "print(\"SVR with polynomial kernel and uniform output\")\n",
    "mse = round(mean_squared_error(y_train, flattened), 3)\n",
    "mae = round(mean_absolute_error(y_train, flattened), 3)\n",
    "print(f\"\\tMSE: {mse} or roughly {round(mse*24, 3)} places\")\n",
    "print(f\"\\tMAE: {mae} or roughly {round(mae*24, 3)} places\")\n",
    "print(f\"\\tpercent correct all american {round(percent_all_american_score(None, flattened, X_train.index), 3)}\")"
   ],
   "metadata": {
    "collapsed": false,
    "pycharm": {
     "name": "#%%\n"
    }
   }
  },
  {
   "cell_type": "markdown",
   "source": [
    "Ultimately, the performance is not any better than the original model output."
   ],
   "metadata": {
    "collapsed": false,
    "pycharm": {
     "name": "#%% md\n"
    }
   }
  },
  {
   "cell_type": "markdown",
   "source": [
    "### SVM Conclusion\n",
    "\n",
    "While using support vector machines I tried both classification and regression. In both cases, the polynomial kernel performed best with default parameters. Additionally, the classification model performed better on my metric of ranking top eight athletes. While SVM is the best performing model of the three it still fails to beat the baseline of predicting using only one column.\n",
    "\n",
    "However, because SVM is the best performing model which also has a wealth of hyperparameters to tune it is the model I am choosing to optimize in part 4 of the project."
   ],
   "metadata": {
    "collapsed": false,
    "pycharm": {
     "name": "#%% md\n"
    }
   }
  },
  {
   "cell_type": "markdown",
   "source": [
    "## Conclusion\n",
    "\n",
    "In this report we\n",
    "- Created a custom metric to measure the correctness of the ranking of athletes as all-american\n",
    "- Looked at various transformations to the training data included PCA, Scaling, and Feature reduction\n",
    "- Tried an unsupervised model in the form of SpectralClustering while adjusting hyperparameters\n",
    "- Tried a supervised model with LogisticRegression using an exhaustive feature search and also tried levels of regularization\n",
    "- Tried a supervised model with SVM with both classification and regression using multiple kernels\n",
    "\n",
    "In the end, none of the models were able to outperform our baseline of predicting based off a single feature `mean_three_best`. While I am happy that my experience with track and field aided me in engineering a useful feature it is strange the curse of dimensionality struck with so few dimensions. Moreover, I made the assumption that our data can be trained independent of event. I suspect that if we had more data it would be effective to train one model per event type (throws/sprints/distances/jump).  In part four, I will adjust the hyperparameters of the support vector classifier to see if we can squeeze out more performance."
   ],
   "metadata": {
    "collapsed": false,
    "pycharm": {
     "name": "#%% md\n"
    }
   }
  }
 ],
 "metadata": {
  "kernelspec": {
   "name": "tensorflow",
   "language": "python",
   "display_name": "tensorflow"
  },
  "language_info": {
   "codemirror_mode": {
    "name": "ipython",
    "version": 3
   },
   "file_extension": ".py",
   "mimetype": "text/x-python",
   "name": "python",
   "nbconvert_exporter": "python",
   "pygments_lexer": "ipython3",
   "version": "3.9.13"
  },
  "vscode": {
   "interpreter": {
    "hash": "916dbcbb3f70747c44a77c7bcd40155683ae19c65e1c03b4aa3499c5328201f1"
   }
  }
 },
 "nbformat": 4,
 "nbformat_minor": 4
}
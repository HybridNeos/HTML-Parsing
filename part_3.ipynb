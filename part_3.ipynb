{
 "cells": [
  {
   "cell_type": "code",
   "execution_count": 1,
   "metadata": {
    "pycharm": {
     "name": "#%%\n"
    }
   },
   "outputs": [],
   "source": [
    "import pandas as pd\n",
    "import matplotlib.pyplot as plt\n",
    "import numpy as np"
   ]
  },
  {
   "cell_type": "markdown",
   "metadata": {
    "pycharm": {
     "name": "#%% md\n"
    }
   },
   "source": [
    "# Load the data\n",
    "\n",
    "To avoid features being derived from other features split the data into subsets *mean_* and *percent_* features."
   ]
  },
  {
   "cell_type": "code",
   "execution_count": 7,
   "metadata": {
    "pycharm": {
     "name": "#%%\n"
    }
   },
   "outputs": [],
   "source": [
    "global df\n",
    "df = pd.read_csv(\"./data/processed/raw.csv\")\n",
    "df.drop([\"school\", \"q1\", \"q3\", \"grade\"], axis=1, inplace=True)\n",
    "X = df.drop([\"name\", \"event\", \"place\", \"all_american\", \"score\"], axis=1)\n",
    "# Revisit part 2 and scale count\n",
    "X[\"year\"] /= 4\n",
    "\n",
    "y_score = df[\"score\"]\n",
    "y_all_am = df[\"all_american\"]"
   ]
  },
  {
   "cell_type": "code",
   "execution_count": 76,
   "outputs": [],
   "source": [
    "from sklearn.preprocessing import LabelEncoder\n",
    "le = LabelEncoder()\n",
    "df[\"event_num\"] = le.fit_transform(df[\"event\"])"
   ],
   "metadata": {
    "collapsed": false,
    "pycharm": {
     "name": "#%%\n"
    }
   }
  },
  {
   "cell_type": "code",
   "execution_count": 4,
   "metadata": {
    "pycharm": {
     "name": "#%%\n"
    }
   },
   "outputs": [],
   "source": [
    "# Prepare scaled data for later\n",
    "from sklearn.preprocessing import MinMaxScaler\n",
    "scaler = MinMaxScaler()\n",
    "columns = list(X.columns[:-1]) # Year scaling is dividing by 4\n",
    "X_scaled_np = scaler.fit_transform(X.drop([\"year\"], axis=1))\n",
    "X_scaled = pd.DataFrame(X_scaled_np, columns=columns)\n",
    "#X_scaled = pd.concat([df[[\"all_american\", \"score\"]], X_scaled, df[\"year\"]], axis=1)\n",
    "X_scaled = pd.concat([X_scaled, df[\"year\"]], axis=1)"
   ]
  },
  {
   "cell_type": "code",
   "execution_count": 38,
   "outputs": [],
   "source": [
    "# Count ranges up to 75 so scale this down in original data\n",
    "X[\"count\"] = X_scaled[\"count\"].copy()"
   ],
   "metadata": {
    "collapsed": false,
    "pycharm": {
     "name": "#%%\n"
    }
   }
  },
  {
   "cell_type": "markdown",
   "metadata": {
    "pycharm": {
     "name": "#%% md\n"
    }
   },
   "source": [
    "# Baseline\n",
    "\n",
    "Given that there are 24 athletes competing in an event but only 8 place All-American the completely random chance of guessing correctly is 1/3. I want to create a custom metric which shows how many of the top 8 were predicted correctly for each event. By doing so, we can make a more intelligent baseline if we simply predict the top 8 athletes in an event based on a given feature to win."
   ]
  },
  {
   "cell_type": "code",
   "execution_count": 89,
   "outputs": [
    {
     "name": "stdout",
     "output_type": "stream",
     "text": [
      "[('mean_three_best', 0.729), ('max', 0.681), ('median', 0.59), ('mean', 0.576), ('mean_three_recent', 0.576)]\n"
     ]
    }
   ],
   "source": [
    "def percent_all_american_score(y_true, y_pred, indices=df.index):\n",
    "    truth = df.iloc[indices][[\"name\", \"event\", \"place\", \"all_american\"]]\n",
    "    truth[\"prob_all_am\"] = y_pred\n",
    "    top_eight = truth.sort_values([\"event\", \"prob_all_am\"], ascending=False).groupby([\"event\"]).head(8)\n",
    "    return sum(top_eight[\"all_american\"]) / len(top_eight)\n",
    "\n",
    "single_feature_scores = [(feature, round(percent_all_american_score(None, X[feature]), 3)) for feature in X.columns]\n",
    "print(sorted(single_feature_scores, key=lambda tup: tup[1], reverse=True)[:5])"
   ],
   "metadata": {
    "collapsed": false,
    "pycharm": {
     "name": "#%%\n"
    }
   }
  },
  {
   "cell_type": "markdown",
   "metadata": {
    "pycharm": {
     "name": "#%% md\n"
    }
   },
   "source": [
    "So, my feature engineered `mean_three_best` alone nearly 73 percent accurate! If the models can not beat *0.729* we can determine that either 1) we need to collect more data and/or features or 2) this problem is not well suited to machine learning."
   ]
  },
  {
   "cell_type": "code",
   "execution_count": 90,
   "outputs": [],
   "source": [
    "# from sklearn.metrics import make_scorer\n",
    "# all_am_accuracy = make_scorer(percent_all_american_score, needs_proba=True, indices=df.index)"
   ],
   "metadata": {
    "collapsed": false,
    "pycharm": {
     "name": "#%%\n"
    }
   }
  },
  {
   "cell_type": "markdown",
   "metadata": {
    "pycharm": {
     "name": "#%% md\n"
    }
   },
   "source": [
    "# Dimensionality Reduction"
   ]
  },
  {
   "cell_type": "markdown",
   "metadata": {
    "pycharm": {
     "name": "#%% md\n"
    }
   },
   "source": [
    "### Correlation\n",
    "First, we check if any features are highly correlated"
   ]
  },
  {
   "cell_type": "code",
   "execution_count": 40,
   "metadata": {
    "pycharm": {
     "name": "#%%\n"
    }
   },
   "outputs": [
    {
     "data": {
      "text/plain": "                             all_am       min       max      mean       std  \\\nall_american               1.000000       NaN       NaN       NaN       NaN   \nmin                             NaN  1.000000  0.746160  0.868393 -0.863812   \nmax                             NaN  0.746160  1.000000  0.945981       NaN   \nmean                            NaN  0.868393  0.945981  1.000000 -0.608691   \nstd                             NaN -0.863812       NaN -0.608691  1.000000   \nmedian                          NaN  0.839157  0.941817  0.994070 -0.565123   \nmean_three_recent               NaN  0.868393  0.945981  1.000000 -0.608691   \nmean_three_best                 NaN  0.757867  0.979613  0.957523 -0.427707   \nmean_three_worst                NaN  0.958043  0.832441  0.951560 -0.791583   \npercent_diff_recent_best        NaN -0.742832 -0.402534 -0.633585  0.805915   \npercent_diff_recent_worst       NaN -0.834228       NaN -0.566721  0.915533   \nno_mark_rate                    NaN       NaN       NaN       NaN       NaN   \ncount                           NaN       NaN       NaN       NaN       NaN   \nyear                            NaN       NaN       NaN       NaN       NaN   \nscore                      0.814729       NaN       NaN       NaN       NaN   \n\n                             median  mean_3_recent  mean_3_best  mean_3_worst  \\\nall_american                    NaN            NaN          NaN           NaN   \nmin                        0.839157       0.868393     0.757867      0.958043   \nmax                        0.941817       0.945981     0.979613      0.832441   \nmean                       0.994070       1.000000     0.957523      0.951560   \nstd                       -0.565123      -0.608691    -0.427707     -0.791583   \nmedian                     1.000000       0.994070     0.956692      0.930132   \nmean_three_recent          0.994070       1.000000     0.957523      0.951560   \nmean_three_best            0.956692       0.957523     1.000000      0.841396   \nmean_three_worst           0.930132       0.951560     0.841396      1.000000   \npercent_diff_recent_best  -0.616570      -0.633585          NaN     -0.786998   \npercent_diff_recent_worst -0.517846      -0.566721          NaN     -0.789165   \nno_mark_rate                    NaN            NaN          NaN           NaN   \ncount                           NaN            NaN          NaN           NaN   \nyear                            NaN            NaN          NaN           NaN   \nscore                           NaN            NaN          NaN           NaN   \n\n                           pd_recent_best  pd_recent_worst  no_mark_rate  \\\nall_american                          NaN              NaN           NaN   \nmin                             -0.742832        -0.834228           NaN   \nmax                             -0.402534              NaN           NaN   \nmean                            -0.633585        -0.566721           NaN   \nstd                              0.805915         0.915533           NaN   \nmedian                          -0.616570        -0.517846           NaN   \nmean_three_recent               -0.633585        -0.566721           NaN   \nmean_three_best                       NaN              NaN           NaN   \nmean_three_worst                -0.786998        -0.789165           NaN   \npercent_diff_recent_best         1.000000         0.861893           NaN   \npercent_diff_recent_worst        0.861893         1.000000           NaN   \nno_mark_rate                          NaN              NaN           1.0   \ncount                            0.557427         0.504491           NaN   \nyear                                  NaN              NaN           NaN   \nscore                                 NaN              NaN           NaN   \n\n                              count  year     score  \nall_american                    NaN   NaN  0.814729  \nmin                             NaN   NaN       NaN  \nmax                             NaN   NaN       NaN  \nmean                            NaN   NaN       NaN  \nstd                             NaN   NaN       NaN  \nmedian                          NaN   NaN       NaN  \nmean_three_recent               NaN   NaN       NaN  \nmean_three_best                 NaN   NaN       NaN  \nmean_three_worst                NaN   NaN       NaN  \npercent_diff_recent_best   0.557427   NaN       NaN  \npercent_diff_recent_worst  0.504491   NaN       NaN  \nno_mark_rate                    NaN   NaN       NaN  \ncount                      1.000000   NaN       NaN  \nyear                            NaN   1.0       NaN  \nscore                           NaN   NaN  1.000000  ",
      "text/html": "<div>\n<style scoped>\n    .dataframe tbody tr th:only-of-type {\n        vertical-align: middle;\n    }\n\n    .dataframe tbody tr th {\n        vertical-align: top;\n    }\n\n    .dataframe thead th {\n        text-align: right;\n    }\n</style>\n<table border=\"1\" class=\"dataframe\">\n  <thead>\n    <tr style=\"text-align: right;\">\n      <th></th>\n      <th>all_am</th>\n      <th>min</th>\n      <th>max</th>\n      <th>mean</th>\n      <th>std</th>\n      <th>median</th>\n      <th>mean_3_recent</th>\n      <th>mean_3_best</th>\n      <th>mean_3_worst</th>\n      <th>pd_recent_best</th>\n      <th>pd_recent_worst</th>\n      <th>no_mark_rate</th>\n      <th>count</th>\n      <th>year</th>\n      <th>score</th>\n    </tr>\n  </thead>\n  <tbody>\n    <tr>\n      <th>all_american</th>\n      <td>1.000000</td>\n      <td>NaN</td>\n      <td>NaN</td>\n      <td>NaN</td>\n      <td>NaN</td>\n      <td>NaN</td>\n      <td>NaN</td>\n      <td>NaN</td>\n      <td>NaN</td>\n      <td>NaN</td>\n      <td>NaN</td>\n      <td>NaN</td>\n      <td>NaN</td>\n      <td>NaN</td>\n      <td>0.814729</td>\n    </tr>\n    <tr>\n      <th>min</th>\n      <td>NaN</td>\n      <td>1.000000</td>\n      <td>0.746160</td>\n      <td>0.868393</td>\n      <td>-0.863812</td>\n      <td>0.839157</td>\n      <td>0.868393</td>\n      <td>0.757867</td>\n      <td>0.958043</td>\n      <td>-0.742832</td>\n      <td>-0.834228</td>\n      <td>NaN</td>\n      <td>NaN</td>\n      <td>NaN</td>\n      <td>NaN</td>\n    </tr>\n    <tr>\n      <th>max</th>\n      <td>NaN</td>\n      <td>0.746160</td>\n      <td>1.000000</td>\n      <td>0.945981</td>\n      <td>NaN</td>\n      <td>0.941817</td>\n      <td>0.945981</td>\n      <td>0.979613</td>\n      <td>0.832441</td>\n      <td>-0.402534</td>\n      <td>NaN</td>\n      <td>NaN</td>\n      <td>NaN</td>\n      <td>NaN</td>\n      <td>NaN</td>\n    </tr>\n    <tr>\n      <th>mean</th>\n      <td>NaN</td>\n      <td>0.868393</td>\n      <td>0.945981</td>\n      <td>1.000000</td>\n      <td>-0.608691</td>\n      <td>0.994070</td>\n      <td>1.000000</td>\n      <td>0.957523</td>\n      <td>0.951560</td>\n      <td>-0.633585</td>\n      <td>-0.566721</td>\n      <td>NaN</td>\n      <td>NaN</td>\n      <td>NaN</td>\n      <td>NaN</td>\n    </tr>\n    <tr>\n      <th>std</th>\n      <td>NaN</td>\n      <td>-0.863812</td>\n      <td>NaN</td>\n      <td>-0.608691</td>\n      <td>1.000000</td>\n      <td>-0.565123</td>\n      <td>-0.608691</td>\n      <td>-0.427707</td>\n      <td>-0.791583</td>\n      <td>0.805915</td>\n      <td>0.915533</td>\n      <td>NaN</td>\n      <td>NaN</td>\n      <td>NaN</td>\n      <td>NaN</td>\n    </tr>\n    <tr>\n      <th>median</th>\n      <td>NaN</td>\n      <td>0.839157</td>\n      <td>0.941817</td>\n      <td>0.994070</td>\n      <td>-0.565123</td>\n      <td>1.000000</td>\n      <td>0.994070</td>\n      <td>0.956692</td>\n      <td>0.930132</td>\n      <td>-0.616570</td>\n      <td>-0.517846</td>\n      <td>NaN</td>\n      <td>NaN</td>\n      <td>NaN</td>\n      <td>NaN</td>\n    </tr>\n    <tr>\n      <th>mean_three_recent</th>\n      <td>NaN</td>\n      <td>0.868393</td>\n      <td>0.945981</td>\n      <td>1.000000</td>\n      <td>-0.608691</td>\n      <td>0.994070</td>\n      <td>1.000000</td>\n      <td>0.957523</td>\n      <td>0.951560</td>\n      <td>-0.633585</td>\n      <td>-0.566721</td>\n      <td>NaN</td>\n      <td>NaN</td>\n      <td>NaN</td>\n      <td>NaN</td>\n    </tr>\n    <tr>\n      <th>mean_three_best</th>\n      <td>NaN</td>\n      <td>0.757867</td>\n      <td>0.979613</td>\n      <td>0.957523</td>\n      <td>-0.427707</td>\n      <td>0.956692</td>\n      <td>0.957523</td>\n      <td>1.000000</td>\n      <td>0.841396</td>\n      <td>NaN</td>\n      <td>NaN</td>\n      <td>NaN</td>\n      <td>NaN</td>\n      <td>NaN</td>\n      <td>NaN</td>\n    </tr>\n    <tr>\n      <th>mean_three_worst</th>\n      <td>NaN</td>\n      <td>0.958043</td>\n      <td>0.832441</td>\n      <td>0.951560</td>\n      <td>-0.791583</td>\n      <td>0.930132</td>\n      <td>0.951560</td>\n      <td>0.841396</td>\n      <td>1.000000</td>\n      <td>-0.786998</td>\n      <td>-0.789165</td>\n      <td>NaN</td>\n      <td>NaN</td>\n      <td>NaN</td>\n      <td>NaN</td>\n    </tr>\n    <tr>\n      <th>percent_diff_recent_best</th>\n      <td>NaN</td>\n      <td>-0.742832</td>\n      <td>-0.402534</td>\n      <td>-0.633585</td>\n      <td>0.805915</td>\n      <td>-0.616570</td>\n      <td>-0.633585</td>\n      <td>NaN</td>\n      <td>-0.786998</td>\n      <td>1.000000</td>\n      <td>0.861893</td>\n      <td>NaN</td>\n      <td>0.557427</td>\n      <td>NaN</td>\n      <td>NaN</td>\n    </tr>\n    <tr>\n      <th>percent_diff_recent_worst</th>\n      <td>NaN</td>\n      <td>-0.834228</td>\n      <td>NaN</td>\n      <td>-0.566721</td>\n      <td>0.915533</td>\n      <td>-0.517846</td>\n      <td>-0.566721</td>\n      <td>NaN</td>\n      <td>-0.789165</td>\n      <td>0.861893</td>\n      <td>1.000000</td>\n      <td>NaN</td>\n      <td>0.504491</td>\n      <td>NaN</td>\n      <td>NaN</td>\n    </tr>\n    <tr>\n      <th>no_mark_rate</th>\n      <td>NaN</td>\n      <td>NaN</td>\n      <td>NaN</td>\n      <td>NaN</td>\n      <td>NaN</td>\n      <td>NaN</td>\n      <td>NaN</td>\n      <td>NaN</td>\n      <td>NaN</td>\n      <td>NaN</td>\n      <td>NaN</td>\n      <td>1.0</td>\n      <td>NaN</td>\n      <td>NaN</td>\n      <td>NaN</td>\n    </tr>\n    <tr>\n      <th>count</th>\n      <td>NaN</td>\n      <td>NaN</td>\n      <td>NaN</td>\n      <td>NaN</td>\n      <td>NaN</td>\n      <td>NaN</td>\n      <td>NaN</td>\n      <td>NaN</td>\n      <td>NaN</td>\n      <td>0.557427</td>\n      <td>0.504491</td>\n      <td>NaN</td>\n      <td>1.000000</td>\n      <td>NaN</td>\n      <td>NaN</td>\n    </tr>\n    <tr>\n      <th>year</th>\n      <td>NaN</td>\n      <td>NaN</td>\n      <td>NaN</td>\n      <td>NaN</td>\n      <td>NaN</td>\n      <td>NaN</td>\n      <td>NaN</td>\n      <td>NaN</td>\n      <td>NaN</td>\n      <td>NaN</td>\n      <td>NaN</td>\n      <td>NaN</td>\n      <td>NaN</td>\n      <td>1.0</td>\n      <td>NaN</td>\n    </tr>\n    <tr>\n      <th>score</th>\n      <td>0.814729</td>\n      <td>NaN</td>\n      <td>NaN</td>\n      <td>NaN</td>\n      <td>NaN</td>\n      <td>NaN</td>\n      <td>NaN</td>\n      <td>NaN</td>\n      <td>NaN</td>\n      <td>NaN</td>\n      <td>NaN</td>\n      <td>NaN</td>\n      <td>NaN</td>\n      <td>NaN</td>\n      <td>1.000000</td>\n    </tr>\n  </tbody>\n</table>\n</div>"
     },
     "execution_count": 40,
     "metadata": {},
     "output_type": "execute_result"
    }
   ],
   "source": [
    "X_correlations = df.drop([\"name\", \"place\"], axis=1).corr()\n",
    "X_correlations.columns = [\n",
    "    'all_am', 'min', 'max', 'mean', 'std', 'median',\n",
    "    'mean_3_recent', 'mean_3_best', 'mean_3_worst',\n",
    "    'pd_recent_best', 'pd_recent_worst', 'no_mark_rate',\n",
    "    'count', 'year', 'score'\n",
    "] # To fit the dataframe on screen\n",
    "X_correlations[abs(X_correlations) > 0.4]"
   ]
  },
  {
   "cell_type": "markdown",
   "metadata": {
    "pycharm": {
     "name": "#%% md\n"
    }
   },
   "source": [
    "Observations\n",
    "- The min, max, mean, and median are highly correlated as expected. Consider selecting only one of the four.\n",
    "- The three *mean_* features highly correlated with min, max, mean, and median so they may not be very descriptive\n",
    "- The *percent_diff*  features have a strong negative correlation with min, max, mean, median\n",
    "- The *percent_diff*  features are highly correlated with standard deviation and count which was not expected"
   ]
  },
  {
   "cell_type": "markdown",
   "metadata": {
    "pycharm": {
     "name": "#%% md\n"
    }
   },
   "source": [
    "Because the `min, max, median`,  `mean_three_recent, mean_three_best, mean_three_worst`, and `percent_diff_recent_best, percent_diff_recent_worst` feature groups are so strongly correlated I will pick only one based on the strongest correlation to target. This additionally lightens the problem of the percent_diff features being linear combinations of the mean_ features."
   ]
  },
  {
   "cell_type": "code",
   "execution_count": 41,
   "outputs": [
    {
     "data": {
      "text/plain": "all_american                 0.814729\nmin                          0.122397\nmax                          0.286176\nmean                         0.207847\nstd                          0.034175\nmedian                       0.208468\nmean_three_recent            0.207847\nmean_three_best              0.268128\nmean_three_worst             0.138837\npercent_diff_recent_best     0.054832\npercent_diff_recent_worst    0.036084\nno_mark_rate                -0.148302\ncount                        0.122951\nyear                         0.035511\nscore                        1.000000\nName: score, dtype: float64"
     },
     "execution_count": 41,
     "metadata": {},
     "output_type": "execute_result"
    }
   ],
   "source": [
    "# Observe which features correlate best with target\n",
    "X_correlations[\"score\"]"
   ],
   "metadata": {
    "collapsed": false,
    "pycharm": {
     "name": "#%%\n"
    }
   }
  },
  {
   "cell_type": "markdown",
   "source": [
    "Here, the `max, mean_three_best, percent_diff_recent_best` features win their groups respectively and so based on correlation our feature reduced data will be"
   ],
   "metadata": {
    "collapsed": false,
    "pycharm": {
     "name": "#%% md\n"
    }
   }
  },
  {
   "cell_type": "code",
   "execution_count": 43,
   "metadata": {
    "pycharm": {
     "name": "#%%\n"
    }
   },
   "outputs": [
    {
     "data": {
      "text/plain": "        max       std  mean_three_best  percent_diff_recent_best  \\\n0  0.982000  0.011727         0.979063                  0.013292   \n1  1.003064  0.011425         0.974206                  0.000230   \n2  0.974206  0.015418         0.974206                  0.015742   \n3  0.987928  0.013936         0.979063                  0.013061   \n4  0.979063  0.011750         0.972277                  0.011381   \n\n   no_mark_rate     count  year  \n0           0.0  0.180556  0.50  \n1           0.0  0.083333  0.25  \n2           0.0  0.180556  0.50  \n3           0.0  0.208333  0.75  \n4           0.0  0.194444  1.00  ",
      "text/html": "<div>\n<style scoped>\n    .dataframe tbody tr th:only-of-type {\n        vertical-align: middle;\n    }\n\n    .dataframe tbody tr th {\n        vertical-align: top;\n    }\n\n    .dataframe thead th {\n        text-align: right;\n    }\n</style>\n<table border=\"1\" class=\"dataframe\">\n  <thead>\n    <tr style=\"text-align: right;\">\n      <th></th>\n      <th>max</th>\n      <th>std</th>\n      <th>mean_three_best</th>\n      <th>percent_diff_recent_best</th>\n      <th>no_mark_rate</th>\n      <th>count</th>\n      <th>year</th>\n    </tr>\n  </thead>\n  <tbody>\n    <tr>\n      <th>0</th>\n      <td>0.982000</td>\n      <td>0.011727</td>\n      <td>0.979063</td>\n      <td>0.013292</td>\n      <td>0.0</td>\n      <td>0.180556</td>\n      <td>0.50</td>\n    </tr>\n    <tr>\n      <th>1</th>\n      <td>1.003064</td>\n      <td>0.011425</td>\n      <td>0.974206</td>\n      <td>0.000230</td>\n      <td>0.0</td>\n      <td>0.083333</td>\n      <td>0.25</td>\n    </tr>\n    <tr>\n      <th>2</th>\n      <td>0.974206</td>\n      <td>0.015418</td>\n      <td>0.974206</td>\n      <td>0.015742</td>\n      <td>0.0</td>\n      <td>0.180556</td>\n      <td>0.50</td>\n    </tr>\n    <tr>\n      <th>3</th>\n      <td>0.987928</td>\n      <td>0.013936</td>\n      <td>0.979063</td>\n      <td>0.013061</td>\n      <td>0.0</td>\n      <td>0.208333</td>\n      <td>0.75</td>\n    </tr>\n    <tr>\n      <th>4</th>\n      <td>0.979063</td>\n      <td>0.011750</td>\n      <td>0.972277</td>\n      <td>0.011381</td>\n      <td>0.0</td>\n      <td>0.194444</td>\n      <td>1.00</td>\n    </tr>\n  </tbody>\n</table>\n</div>"
     },
     "execution_count": 43,
     "metadata": {},
     "output_type": "execute_result"
    }
   ],
   "source": [
    "# Thus by correlation the feature reduced data would be max, std, percent_diff_recent_best, no_mark_rate, count, and year\n",
    "# = df[[\"event\", \"all_american\", \"score\", \"max\", \"std\", \"percent_diff_recent_best\", \"no_mark_rate\", \"count\", \"year\"]]\n",
    "X_fr_corr = X[[\"max\", \"std\", \"mean_three_best\", \"percent_diff_recent_best\", \"no_mark_rate\", \"count\", \"year\"]]\n",
    "X_fr_corr.head(5)"
   ]
  },
  {
   "cell_type": "markdown",
   "source": [
    "## Decision Tree Feature Importance"
   ],
   "metadata": {
    "collapsed": false,
    "pycharm": {
     "name": "#%% md\n"
    }
   }
  },
  {
   "cell_type": "code",
   "execution_count": 10,
   "outputs": [],
   "source": [
    "from sklearn.tree import DecisionTreeClassifier"
   ],
   "metadata": {
    "collapsed": false,
    "pycharm": {
     "name": "#%%\n"
    }
   }
  },
  {
   "cell_type": "code",
   "execution_count": 11,
   "outputs": [
    {
     "name": "stdout",
     "output_type": "stream",
     "text": [
      "[('max', 0.242), ('percent_diff_recent_best', 0.135), ('percent_diff_recent_worst', 0.132), ('min', 0.093), ('std', 0.067), ('count', 0.066), ('mean_three_recent', 0.062), ('mean_three_worst', 0.054), ('no_mark_rate', 0.047), ('mean_three_best', 0.044), ('median', 0.031), ('year', 0.015), ('mean', 0.011)]\n"
     ]
    }
   ],
   "source": [
    "dt_features = DecisionTreeClassifier(random_state=0, class_weight=\"balanced\")\n",
    "dt_features.fit(X, y_all_am)\n",
    "print(sorted([(pair[0], round(pair[1], 3)) for pair in zip(X.columns, dt_features.feature_importances_)], reverse=True, key=lambda tup: tup[1]))"
   ],
   "metadata": {
    "collapsed": false,
    "pycharm": {
     "name": "#%%\n"
    }
   }
  },
  {
   "cell_type": "markdown",
   "source": [
    "The feature importance values here align with what we found in the correlation tests. Namely, max is the most important feature with count and percent_diff_recent_best also being relevant. So, if we combine what we know so far a feature reduced dataset should only include the columns `max, std, percent_diff_recent_best, no_mark_rate, count, year`. Given this, there is no change to the feature reduced dataset"
   ],
   "metadata": {
    "collapsed": false,
    "pycharm": {
     "name": "#%% md\n"
    }
   }
  },
  {
   "cell_type": "code",
   "execution_count": 51,
   "outputs": [
    {
     "data": {
      "text/plain": "        max       std  mean_three_best  percent_diff_recent_best  \\\n0  0.982000  0.011727         0.979063                  0.013292   \n1  1.003064  0.011425         0.974206                  0.000230   \n2  0.974206  0.015418         0.974206                  0.015742   \n3  0.987928  0.013936         0.979063                  0.013061   \n4  0.979063  0.011750         0.972277                  0.011381   \n\n   no_mark_rate     count  year  \n0           0.0  0.180556  0.50  \n1           0.0  0.083333  0.25  \n2           0.0  0.180556  0.50  \n3           0.0  0.208333  0.75  \n4           0.0  0.194444  1.00  ",
      "text/html": "<div>\n<style scoped>\n    .dataframe tbody tr th:only-of-type {\n        vertical-align: middle;\n    }\n\n    .dataframe tbody tr th {\n        vertical-align: top;\n    }\n\n    .dataframe thead th {\n        text-align: right;\n    }\n</style>\n<table border=\"1\" class=\"dataframe\">\n  <thead>\n    <tr style=\"text-align: right;\">\n      <th></th>\n      <th>max</th>\n      <th>std</th>\n      <th>mean_three_best</th>\n      <th>percent_diff_recent_best</th>\n      <th>no_mark_rate</th>\n      <th>count</th>\n      <th>year</th>\n    </tr>\n  </thead>\n  <tbody>\n    <tr>\n      <th>0</th>\n      <td>0.982000</td>\n      <td>0.011727</td>\n      <td>0.979063</td>\n      <td>0.013292</td>\n      <td>0.0</td>\n      <td>0.180556</td>\n      <td>0.50</td>\n    </tr>\n    <tr>\n      <th>1</th>\n      <td>1.003064</td>\n      <td>0.011425</td>\n      <td>0.974206</td>\n      <td>0.000230</td>\n      <td>0.0</td>\n      <td>0.083333</td>\n      <td>0.25</td>\n    </tr>\n    <tr>\n      <th>2</th>\n      <td>0.974206</td>\n      <td>0.015418</td>\n      <td>0.974206</td>\n      <td>0.015742</td>\n      <td>0.0</td>\n      <td>0.180556</td>\n      <td>0.50</td>\n    </tr>\n    <tr>\n      <th>3</th>\n      <td>0.987928</td>\n      <td>0.013936</td>\n      <td>0.979063</td>\n      <td>0.013061</td>\n      <td>0.0</td>\n      <td>0.208333</td>\n      <td>0.75</td>\n    </tr>\n    <tr>\n      <th>4</th>\n      <td>0.979063</td>\n      <td>0.011750</td>\n      <td>0.972277</td>\n      <td>0.011381</td>\n      <td>0.0</td>\n      <td>0.194444</td>\n      <td>1.00</td>\n    </tr>\n  </tbody>\n</table>\n</div>"
     },
     "execution_count": 51,
     "metadata": {},
     "output_type": "execute_result"
    }
   ],
   "source": [
    "X_fr = X_fr_corr\n",
    "X_fr_scaled = X_scaled[X_fr.columns]\n",
    "X_fr.head()"
   ],
   "metadata": {
    "collapsed": false,
    "pycharm": {
     "name": "#%%\n"
    }
   }
  },
  {
   "cell_type": "markdown",
   "metadata": {
    "pycharm": {
     "name": "#%% md\n"
    }
   },
   "source": [
    "### PCA\n",
    "See if the data scaled or unscaled can be well approximated with fewer dimensions "
   ]
  },
  {
   "cell_type": "code",
   "execution_count": 45,
   "metadata": {
    "pycharm": {
     "name": "#%%\n"
    }
   },
   "outputs": [],
   "source": [
    "from sklearn.decomposition import PCA\n",
    "from sklearn.discriminant_analysis import LinearDiscriminantAnalysis as LDA"
   ]
  },
  {
   "cell_type": "code",
   "execution_count": 65,
   "metadata": {
    "pycharm": {
     "name": "#%%\n"
    }
   },
   "outputs": [
    {
     "data": {
      "text/plain": "array([0.5363202 , 0.79807738, 0.95851262, 0.97844427, 0.99559703,\n       0.99838493, 0.99927716, 0.99973622, 0.99985991, 0.9999376 ,\n       0.99998206, 1.        , 1.        ])"
     },
     "execution_count": 65,
     "metadata": {},
     "output_type": "execute_result"
    }
   ],
   "source": [
    "# 99% variance with 5 features\n",
    "pca = PCA(n_components=X.shape[1])\n",
    "X_pca = pca.fit_transform(X)\n",
    "np.cumsum(pca.explained_variance_ratio_)"
   ]
  },
  {
   "cell_type": "code",
   "execution_count": 66,
   "metadata": {
    "pycharm": {
     "name": "#%%\n"
    }
   },
   "outputs": [
    {
     "data": {
      "text/plain": "array([0.71956614, 0.93331849, 0.963029  , 0.98342368, 0.99504626,\n       0.99798369, 0.99902705, 0.99949987, 0.99980473, 0.99991648,\n       0.99998495, 1.        , 1.        ])"
     },
     "execution_count": 66,
     "metadata": {},
     "output_type": "execute_result"
    }
   ],
   "source": [
    "# Try PCA with all scaled\n",
    "# 99% variance with 7 features\n",
    "pca_scaled = PCA(n_components=X_scaled.shape[1])\n",
    "X_pca_scaled = pca_scaled.fit(X_scaled)\n",
    "np.cumsum(pca_scaled.explained_variance_ratio_)"
   ]
  },
  {
   "cell_type": "code",
   "execution_count": 67,
   "metadata": {
    "pycharm": {
     "name": "#%%\n"
    }
   },
   "outputs": [],
   "source": [
    "# # If we perform PCA on the scaled and correlation selected features, we get a stronger first 3 variances and still 99% after 5\n",
    "# # This means that plotting in 2 dimensions might feasible\n",
    "# pca_corr = PCA(n_components=X_fr.shape[1])\n",
    "# pca_corr.fit(X_fr)\n",
    "# np.cumsum(pca_corr.explained_variance_ratio_)"
   ]
  },
  {
   "cell_type": "code",
   "execution_count": 58,
   "outputs": [
    {
     "data": {
      "text/plain": "array([0.85224582, 0.93433934, 0.96366531, 0.98694513, 0.99753656,\n       0.99936495, 1.        ])"
     },
     "execution_count": 58,
     "metadata": {},
     "output_type": "execute_result"
    }
   ],
   "source": [
    "# The scaled set selected by feature reduction is very notably stronger with the first component and very slightly better on the second component.\n",
    "# It also gets to the 99% variance by the 5th component so there is nothing too\n",
    "pca_corr = PCA(n_components=X_fr_scaled.shape[1])\n",
    "pca_corr.fit(X_scaled[X_fr_scaled.columns])\n",
    "np.cumsum(pca_corr.explained_variance_ratio_)"
   ],
   "metadata": {
    "collapsed": false,
    "pycharm": {
     "name": "#%%\n"
    }
   }
  },
  {
   "cell_type": "markdown",
   "metadata": {
    "pycharm": {
     "name": "#%% md\n"
    }
   },
   "source": [
    "In conclusion, PCA should be effective for our data. However, because the dataset is small and already has few features I am not initially intending to use it."
   ]
  },
  {
   "cell_type": "markdown",
   "metadata": {
    "pycharm": {
     "name": "#%% md\n"
    }
   },
   "source": [
    "## Visualization"
   ]
  },
  {
   "cell_type": "markdown",
   "metadata": {
    "pycharm": {
     "name": "#%% md\n"
    }
   },
   "source": [
    "While not originally planned, because the PCA explained_variance of two features was higher than expected I wanted to try visualizing the data projected into two dimensions."
   ]
  },
  {
   "cell_type": "code",
   "execution_count": 64,
   "metadata": {
    "pycharm": {
     "name": "#%%\n"
    }
   },
   "outputs": [
    {
     "data": {
      "text/plain": "<Figure size 640x480 with 1 Axes>",
      "image/png": "[encoded data removed]"
     },
     "metadata": {},
     "output_type": "display_data"
    }
   ],
   "source": [
    "data = X_fr_corr\n",
    "viz_pca = PCA(n_components=2)\n",
    "points = viz_pca.fit_transform(data)\n",
    "\n",
    "colors = [\"blue\" if x == 1 else \"orange\" for x in y_all_am]\n",
    "all_am_indexes = y_all_am == 1\n",
    "\n",
    "plt.scatter(x=points[all_am_indexes,0], y=points[all_am_indexes,1], c=\"blue\")\n",
    "plt.scatter(x=points[np.invert(all_am_indexes),0], y=points[np.invert(all_am_indexes),1], c=\"orange\", alpha=0.6)\n",
    "plt.legend([\"All American\", \"Not All American\"])\n",
    "plt.show()"
   ]
  },
  {
   "cell_type": "markdown",
   "metadata": {
    "pycharm": {
     "name": "#%% md\n"
    }
   },
   "source": [
    "In the end, the projection into two dimensions only gives a discouraging sign as to the class seperability."
   ]
  },
  {
   "cell_type": "markdown",
   "metadata": {
    "pycharm": {
     "name": "#%% md\n"
    }
   },
   "source": [
    "## Train Test Split\n",
    "\n",
    "Splitting for this dataset is mildly tricky. We are assuming that event doesn't matter for predictions but we ultimately need a ranking within the event groups. With there being 18 event groups I want to split the data by 13 events for training and 5 for test which is about 72%, 28% train test split. If we want a validation set we can select 3 events from training to be a validation set.\n",
    "\n",
    "When we do cross validation for hyperparameter tuning in part 4 we will be making multiple splits. However, we only need one for now to determine the best model to go forward with."
   ]
  },
  {
   "cell_type": "code",
   "execution_count": 72,
   "metadata": {
    "pycharm": {
     "name": "#%%\n"
    }
   },
   "outputs": [],
   "source": [
    "from sklearn.model_selection import train_test_split, LeavePGroupsOut, RandomizedSearchCV\n",
    "import random\n",
    "import math"
   ]
  },
  {
   "cell_type": "code",
   "execution_count": 222,
   "outputs": [
    {
     "name": "stdout",
     "output_type": "stream",
     "text": [
      "(311, 7)\n",
      "(311, 13)\n"
     ]
    }
   ],
   "source": [
    "random.seed(0)\n",
    "\n",
    "def train_test_split_on_event(x_type=\"scaled\", y_type=\"all_am\", num_test_events=5):\n",
    "    # We can try the binary classification or continuous target variable.\n",
    "    y_data = y_all_am if y_type.lower() == \"all_am\" else y_score\n",
    "\n",
    "    # There are multiple options to try for our data. We will try some but also explore more in part 4.\n",
    "    x_type = x_type.lower()\n",
    "    if x_type == \"scaled\":\n",
    "        X_data = X_scaled\n",
    "    elif x_type == \"fr\":\n",
    "        X_data = X_fr\n",
    "    elif x_type == \"fr_scaled\":\n",
    "        X_data = X_fr_scaled\n",
    "    elif x_type == \"pca\":\n",
    "        X_data = X_pca\n",
    "    elif x_type == \"pca_scaled\":\n",
    "        X_data = X_pca_scaled\n",
    "    else:\n",
    "        X_data = X # slightly better on SVM\n",
    "\n",
    "    test_numbers = random.choices(range(18), k=num_test_events)\n",
    "\n",
    "    test_indices = df[df[\"event_num\"].isin(test_numbers)].index\n",
    "    X_test = X_data.iloc[test_indices]\n",
    "    y_test = y_data.iloc[test_indices]\n",
    "\n",
    "    train_indices = df[~df[\"event_num\"].isin(test_numbers)].index\n",
    "    X_train = X_data.iloc[train_indices]\n",
    "    y_train = y_data.iloc[train_indices]\n",
    "\n",
    "    return X_train, X_test, y_train, y_test\n",
    "\n",
    "X_fr_train, X_fr_test, y_train, y_test = train_test_split_on_event(x_type=\"fr\", y_type=\"all_am\")\n",
    "print(X_fr_train.shape)\n",
    "X_scaled_train, X_scaled_test, _, _ = train_test_split_on_event(x_type=\"scaled\", y_type=\"all_am\")\n",
    "print(X_scaled_train.shape)"
   ],
   "metadata": {
    "collapsed": false,
    "pycharm": {
     "name": "#%%\n"
    }
   }
  },
  {
   "cell_type": "markdown",
   "source": [
    "As you can see, there are many possible different permutations of the data to consider. However, I will focus more on the in part 4 and stick with using only the feature reduced data and the scaled data as they both are transformations from part 2 which based on PCA variances and early testing should show improvements over the unmodified dataset."
   ],
   "metadata": {
    "collapsed": false,
    "pycharm": {
     "name": "#%% md\n"
    }
   }
  },
  {
   "cell_type": "markdown",
   "metadata": {
    "pycharm": {
     "name": "#%% md\n"
    }
   },
   "source": [
    "## Model 1 - Spectral Clustering\n",
    "For the unsupervised model I wanted to select a model I haven't used before and I landed on spectral clustering because I appreciate graphs and because it has many hyperparameters to tune."
   ]
  },
  {
   "cell_type": "markdown",
   "source": [
    "### Setup\n",
    "In addition to importing the model we are going to use I am going to import two metrics recommend by [sklearn documentation](https://scikit-learn.org/stable/modules/clustering.html#clustering-performance-evaluation)."
   ],
   "metadata": {
    "collapsed": false,
    "pycharm": {
     "name": "#%% md\n"
    }
   }
  },
  {
   "cell_type": "code",
   "execution_count": 167,
   "outputs": [],
   "source": [
    "from sklearn.cluster import SpectralClustering\n",
    "from sklearn.metrics import rand_score, fowlkes_mallows_score"
   ],
   "metadata": {
    "collapsed": false,
    "pycharm": {
     "name": "#%%\n"
    }
   }
  },
  {
   "cell_type": "markdown",
   "source": [
    "While we can use the sklearn recommend metrics for evaluating unsupervised clusters, there is a way to recover the multiclass labels of the clustering algorithm into the binary classification we have. If we try the different combinations of flattening the labels to binary labels (example here)\n",
    "```\n",
    "Mapping = (0, 2)\n",
    "Predicted = [0, 1, 1, 2, 0, 2, 3, 1]\n",
    "Mapped    = [1, 0, 0, 1, 0, 1, 0, 0]\n",
    "```\n",
    "we can then use our traditional supervised learning metrics. Crucially, we know that we want to predict about 8 out of 24 athletes to be all_american. So, we want to find the permutation of the labels which will assign about 1/3rd of the labels to our positive class."
   ],
   "metadata": {
    "collapsed": false,
    "pycharm": {
     "name": "#%% md\n"
    }
   }
  },
  {
   "cell_type": "code",
   "execution_count": 246,
   "outputs": [],
   "source": [
    "# Taken from https://stackoverflow.com/questions/1482308/how-to-get-all-subsets-of-a-set-powerset\n",
    "from sklearn.metrics import f1_score\n",
    "from itertools import chain, combinations\n",
    "\n",
    "def powerset(iterable):\n",
    "    s = list(iterable)\n",
    "    return chain.from_iterable(combinations(s, r) for r in range(len(s)+1))\n",
    "\n",
    "def best_mapping(clf, y_actual):\n",
    "    k_powerset = list(powerset(range(clf.n_clusters)))\n",
    "    mapped = [[1 if label in mapping else 0 for label in clf.labels_] for mapping in k_powerset]\n",
    "    mapped_scores = [(k_powerset[i], round(f1_score(preds, y_actual), 3), round(np.mean(preds), 3)) for i, preds in enumerate(mapped)]\n",
    "    return filter(lambda vals: 0.3 < vals[2] < 0.4, sorted(mapped_scores, key=lambda tup: tup[1], reverse=True))\n",
    "\n",
    "def print_clustering_metrics(labels_pred, y_train):\n",
    "    print(f\"\\tRand score {round(rand_score(labels_pred, y_train), 3)}\")\n",
    "    print(f\"\\tFowlkes Mallows score {round(fowlkes_mallows_score(labels_pred, y_train), 3)}\")\n",
    "    print(f\"\\tBest (mapping, f1_score, percent_positive) {list(best_mapping(clustering, y_train))[:1]}\")\n",
    "    return None"
   ],
   "metadata": {
    "collapsed": false,
    "pycharm": {
     "name": "#%%\n"
    }
   }
  },
  {
   "cell_type": "markdown",
   "source": [
    "### Model Training"
   ],
   "metadata": {
    "collapsed": false,
    "pycharm": {
     "name": "#%% md\n"
    }
   }
  },
  {
   "cell_type": "code",
   "execution_count": 248,
   "outputs": [
    {
     "name": "stdout",
     "output_type": "stream",
     "text": [
      "Feature reduced data\n",
      "\tRand score 0.474\n",
      "\tFowlkes Mallows score 0.358\n",
      "\tBest (mapping, f1_score, percent_positive) [((0, 3), 0.411, 0.386)]\n",
      "\n",
      "Scaled data\n",
      "\tRand score 0.471\n",
      "\tFowlkes Mallows score 0.396\n",
      "\tBest (mapping, f1_score, percent_positive) [((2, 3), 0.317, 0.334)]\n"
     ]
    }
   ],
   "source": [
    "# From our PCA we saw that it reached 99% variance with so 5 components, so we will try that many clusters\n",
    "clustering = SpectralClustering(n_clusters=5, assign_labels=\"cluster_qr\", random_state=0).fit(X_fr_train)\n",
    "labels_pred = clustering.labels_\n",
    "\n",
    "print(\"Feature reduced data\")\n",
    "print_clustering_metrics(labels_pred, y_train)\n",
    "\n",
    "clustering = SpectralClustering(n_clusters=5, assign_labels=\"cluster_qr\", random_state=0).fit(X_scaled_train)\n",
    "labels_pred = clustering.labels_\n",
    "\n",
    "print(\"\\nScaled data\")\n",
    "print_clustering_metrics(labels_pred, y_train)"
   ],
   "metadata": {
    "collapsed": false,
    "pycharm": {
     "name": "#%%\n"
    }
   }
  },
  {
   "cell_type": "markdown",
   "source": [
    "The two datasets have similar performance here. However, their performance is not very exciting. I want to see if we can tune the model further using the feature reduced dataset because the number of labels for SpectralClustering is at most the number of features."
   ],
   "metadata": {
    "collapsed": false,
    "pycharm": {
     "name": "#%% md\n"
    }
   }
  },
  {
   "cell_type": "code",
   "execution_count": 249,
   "outputs": [
    {
     "name": "stdout",
     "output_type": "stream",
     "text": [
      "Feature reduced data 2 clusters\n",
      "\tRand score 0.502\n",
      "\tFowlkes Mallows score 0.546\n",
      "\tBest (mapping, f1_score, percent_positive) [((0,), 0.329, 0.35)]\n",
      "\n",
      "Feature reduced data 7 clusters\n",
      "\tRand score 0.463\n",
      "\tFowlkes Mallows score 0.319\n",
      "\tBest (mapping, f1_score, percent_positive) [((0, 2, 4), 0.396, 0.395)]\n"
     ]
    }
   ],
   "source": [
    "# Decrease the number of clusters\n",
    "clustering = SpectralClustering(n_clusters=2, random_state=0).fit(X_fr_train)\n",
    "labels_pred = clustering.labels_\n",
    "\n",
    "print(\"Feature reduced data 2 clusters\")\n",
    "print_clustering_metrics(labels_pred, y_train)\n",
    "\n",
    "# Increase the number of clusters\n",
    "clustering = SpectralClustering(n_clusters=X_fr_train.shape[1], random_state=0).fit(X_fr_train)\n",
    "labels_pred = clustering.labels_\n",
    "\n",
    "print(f\"\\nFeature reduced data {X_fr_train.shape[1]} clusters\")\n",
    "print_clustering_metrics(labels_pred, y_train)"
   ],
   "metadata": {
    "collapsed": false,
    "pycharm": {
     "name": "#%%\n"
    }
   }
  },
  {
   "cell_type": "markdown",
   "source": [
    "The model performs better on recommend metrics with two clusters however five clusters still seems to be the best. So, we will fix the number of clusters and play with other hyperparameters."
   ],
   "metadata": {
    "collapsed": false,
    "pycharm": {
     "name": "#%% md\n"
    }
   }
  },
  {
   "cell_type": "code",
   "execution_count": 250,
   "outputs": [
    {
     "name": "stdout",
     "output_type": "stream",
     "text": [
      "\n",
      "Five clusters with nearest_neighbors affinity 7\n",
      "\tRand score 0.474\n",
      "\tFowlkes Mallows score 0.374\n",
      "\tBest (mapping, f1_score, percent_positive) [((2, 3), 0.4, 0.389)]\n",
      "\n",
      "Five clusters with degree 3 polynomial kernel and discretize labels\n",
      "\tRand score 0.472\n",
      "\tFowlkes Mallows score 0.355\n",
      "\tBest (mapping, f1_score, percent_positive) [((2, 3), 0.383, 0.354)]\n"
     ]
    },
    {
     "name": "stderr",
     "output_type": "stream",
     "text": [
      "C:\\Users\\mark3\\AppData\\Local\\Packages\\PythonSoftwareFoundation.Python.3.9_qbz5n2kfra8p0\\LocalCache\\local-packages\\Python39\\site-packages\\sklearn\\manifold\\_spectral_embedding.py:259: UserWarning: Graph is not fully connected, spectral embedding may not work as expected.\n",
      "  warnings.warn(\n"
     ]
    }
   ],
   "source": [
    "# Try a different affinity measure\n",
    "clustering = SpectralClustering(\n",
    "    n_clusters=5,\n",
    "    affinity=\"nearest_neighbors\",\n",
    "    random_state=0\n",
    "    ).fit(X_fr_train)\n",
    "labels_pred = clustering.labels_\n",
    "print(f\"\\nFive clusters with nearest_neighbors affinity {X_fr_train.shape[1]}\")\n",
    "print_clustering_metrics(labels_pred, y_train)\n",
    "\n",
    "# Use a kernel and different method of assigning labels\n",
    "clustering = SpectralClustering(\n",
    "    n_clusters=5,\n",
    "    affinity=\"poly\",\n",
    "    degree=3,\n",
    "    assign_labels=\"discretize\",\n",
    "    random_state=0\n",
    "    ).fit(X_fr_train)\n",
    "labels_pred = clustering.labels_\n",
    "\n",
    "print(f\"\\nFive clusters with degree 3 polynomial kernel and discretize labels\")\n",
    "print_clustering_metrics(labels_pred, y_train)"
   ],
   "metadata": {
    "collapsed": false,
    "pycharm": {
     "name": "#%%\n"
    }
   }
  },
  {
   "cell_type": "markdown",
   "source": [
    "### Spectral Clustering conclusion\n",
    "\n",
    "There are many different permutations of hyperparameters to try here. However, there seems to be a wall at around 0.5 for the rand and fowlkes mallows score alongside a wall at 0.4 for my converted f1 score. Given how well the baseline performed, I think we can conclude that this model is not a good for the data."
   ],
   "metadata": {
    "collapsed": false,
    "pycharm": {
     "name": "#%% md\n"
    }
   }
  },
  {
   "cell_type": "markdown",
   "metadata": {
    "pycharm": {
     "name": "#%% md\n"
    }
   },
   "source": [
    "## Model 2 - Logistic Regression\n",
    "\n",
    "Since athlete performance will naturally vary it makes sense to predict a probability that an athlete will finish as an all american. Thus, logistic regression is a natural choice of model."
   ]
  },
  {
   "cell_type": "code",
   "execution_count": null,
   "outputs": [],
   "source": [
    "from sklearn.linear_model import LogisticRegression"
   ],
   "metadata": {
    "collapsed": false,
    "pycharm": {
     "name": "#%%\n"
    }
   }
  },
  {
   "cell_type": "code",
   "execution_count": 86,
   "outputs": [
    {
     "ename": "NameError",
     "evalue": "name 'X_pca' is not defined",
     "output_type": "error",
     "traceback": [
      "\u001B[1;31m---------------------------------------------------------------------------\u001B[0m",
      "\u001B[1;31mNameError\u001B[0m                                 Traceback (most recent call last)",
      "Cell \u001B[1;32mIn [86], line 1\u001B[0m\n\u001B[1;32m----> 1\u001B[0m X_train, X_test, y_train, y_test \u001B[38;5;241m=\u001B[39m \u001B[43mtrain_test_split_on_event\u001B[49m\u001B[43m(\u001B[49m\u001B[43mx_type\u001B[49m\u001B[38;5;241;43m=\u001B[39;49m\u001B[38;5;124;43m\"\u001B[39;49m\u001B[38;5;124;43mpca\u001B[39;49m\u001B[38;5;124;43m\"\u001B[39;49m\u001B[43m,\u001B[49m\u001B[43m \u001B[49m\u001B[43my_type\u001B[49m\u001B[38;5;241;43m=\u001B[39;49m\u001B[38;5;124;43m\"\u001B[39;49m\u001B[38;5;124;43mall_am\u001B[39;49m\u001B[38;5;124;43m\"\u001B[39;49m\u001B[43m)\u001B[49m\n\u001B[0;32m      2\u001B[0m lr \u001B[38;5;241m=\u001B[39m LogisticRegression(class_weight\u001B[38;5;241m=\u001B[39m\u001B[38;5;124m\"\u001B[39m\u001B[38;5;124mbalanced\u001B[39m\u001B[38;5;124m\"\u001B[39m)\n\u001B[0;32m      3\u001B[0m lr\u001B[38;5;241m.\u001B[39mfit(X_train, y_train)\n",
      "Cell \u001B[1;32mIn [68], line 15\u001B[0m, in \u001B[0;36mtrain_test_split_on_event\u001B[1;34m(x_type, y_type, num_test_events)\u001B[0m\n\u001B[0;32m     12\u001B[0m \u001B[38;5;66;03m# elif x_type == \"scaled_fr\":\u001B[39;00m\n\u001B[0;32m     13\u001B[0m \u001B[38;5;66;03m#     X_data = X_scaled_fr\u001B[39;00m\n\u001B[0;32m     14\u001B[0m \u001B[38;5;28;01melif\u001B[39;00m x_type \u001B[38;5;241m==\u001B[39m \u001B[38;5;124m\"\u001B[39m\u001B[38;5;124mpca\u001B[39m\u001B[38;5;124m\"\u001B[39m:\n\u001B[1;32m---> 15\u001B[0m     X_data \u001B[38;5;241m=\u001B[39m \u001B[43mX_pca\u001B[49m\n\u001B[0;32m     16\u001B[0m \u001B[38;5;28;01melse\u001B[39;00m:\n\u001B[0;32m     17\u001B[0m     X_data \u001B[38;5;241m=\u001B[39m X \u001B[38;5;66;03m# slightly better on SVM\u001B[39;00m\n",
      "\u001B[1;31mNameError\u001B[0m: name 'X_pca' is not defined"
     ]
    }
   ],
   "source": [
    "X_train, X_test, y_train, y_test = train_test_split_on_event(x_type=\"pca\", y_type=\"all_am\")\n",
    "lr = LogisticRegression(class_weight=\"balanced\")\n",
    "lr.fit(X_train, y_train)"
   ],
   "metadata": {
    "collapsed": false,
    "pycharm": {
     "name": "#%%\n"
    }
   }
  },
  {
   "cell_type": "code",
   "execution_count": 83,
   "outputs": [
    {
     "name": "stdout",
     "output_type": "stream",
     "text": [
      "max 1.660972068951775\n",
      "std 0.21974872120723765\n",
      "percent_diff_recent_best 0.17929545259070478\n",
      "no_mark_rate -0.6054616606824632\n",
      "count 0.019319160314333828\n",
      "year -0.17039042965965587\n"
     ]
    }
   ],
   "source": [
    "for x, y in zip(list(X_train.columns), lr.coef_[0]):\n",
    "    print(x, y)"
   ],
   "metadata": {
    "collapsed": false,
    "pycharm": {
     "name": "#%%\n"
    }
   }
  },
  {
   "cell_type": "code",
   "execution_count": 85,
   "outputs": [
    {
     "name": "stdout",
     "output_type": "stream",
     "text": [
      "0.5675496688741721\n"
     ]
    }
   ],
   "source": [
    "from sklearn.metrics import balanced_accuracy_score\n",
    "predictions = lr.predict(X_train)\n",
    "print(balanced_accuracy_score(predictions, y_train))"
   ],
   "metadata": {
    "collapsed": false,
    "pycharm": {
     "name": "#%%\n"
    }
   }
  },
  {
   "cell_type": "markdown",
   "metadata": {
    "pycharm": {
     "name": "#%% md\n"
    }
   },
   "source": [
    "## Model 3 - SVM"
   ]
  },
  {
   "cell_type": "code",
   "execution_count": 37,
   "outputs": [
    {
     "data": {
      "image/png": "[encoded data removed]",
      "text/plain": [
       "<Figure size 640x480 with 1 Axes>"
      ]
     },
     "metadata": {},
     "output_type": "display_data"
    }
   ],
   "source": [],
   "metadata": {
    "collapsed": false,
    "pycharm": {
     "name": "#%%\n"
    }
   }
  },
  {
   "cell_type": "code",
   "execution_count": 49,
   "metadata": {
    "pycharm": {
     "name": "#%%\n"
    }
   },
   "outputs": [],
   "source": [
    "from sklearn.svm import SVC, SVR\n",
    "from sklearn.metrics import accuracy_score, balanced_accuracy_score, f1_score, RocCurveDisplay\n",
    "# Try with score as target and SVR"
   ]
  },
  {
   "cell_type": "code",
   "execution_count": 462,
   "metadata": {
    "pycharm": {
     "name": "#%%\n"
    }
   },
   "outputs": [
    {
     "name": "stdout",
     "output_type": "stream",
     "text": [
      "Average accuracy: 0.5844\n",
      "Aveage F1 Score: 0.5483\n",
      "Average percent of predictions to be all-american 0.5844\n",
      "Average percent of corectly predicted all-american 0.6327\n",
      "\n"
     ]
    }
   ],
   "source": [
    "avg_accuracy, avg_f1, avg_percent_allam, avg_correct_allam = 0, 0, 0, 0\n",
    "for X_train, y_train in zip(X_trains.values(), y_trains.values()):\n",
    "\n",
    "    # Train the model\n",
    "    #svm = SVC(C=1, kernel=\"poly\", degree=5, probability=True, class_weight='balanced')\n",
    "    svm = SVC(kernel=\"linear\", probability=True, class_weight='balanced')\n",
    "    svm.fit(X_train, y_train)\n",
    "\n",
    "    # Predictions to get metrics\n",
    "    predictions = svm.predict(X_train)\n",
    "    inverse_predictions = [0 if p == 1 else 1 for p in predictions]\n",
    "\n",
    "    # Metrics\n",
    "    avg_accuracy += accuracy_score(predictions, y_train)\n",
    "    avg_f1 += f1_score(predictions, y_train)\n",
    "    avg_percent_allam += sum(predictions) / len(predictions)\n",
    "\n",
    "    # The most important prediction\n",
    "    temp = df.iloc[X_train.index][[\"name\", \"event\", \"place\", \"all_american\"]]\n",
    "    temp[\"prob_all_am\"] = svm.predict_proba(X_train)[:,1]\n",
    "    mapped_predictions = temp.sort_values([\"event\", \"prob_all_am\"], ascending=False).groupby([\"event\"]).head(8)\n",
    "    avg_correct_allam += sum(mapped_predictions[\"all_american\"]) / len(mapped_predictions)\n",
    "    # print(\"Accuracy: {:.4f}\".format(accuracy_score(predictions, y_train)))\n",
    "    # print(\"F1 Score: {:.4f}\".format(f1_score(predictions, y_train)))\n",
    "    # print(\"Percent all american {:.4f}\\n\".format(sum(predictions) / len(predictions)))\n",
    "\n",
    "avg_accuracy /= 5\n",
    "avg_f1 /= 5\n",
    "avg_percent_allam /= 5\n",
    "avg_correct_allam /= 5\n",
    "print(\"Average accuracy: {:.4f}\".format(avg_accuracy))\n",
    "print(\"Aveage F1 Score: {:.4f}\".format(avg_f1))\n",
    "print(\"Average percent of predictions to be all-american {:.4f}\".format(avg_percent_allam))\n",
    "print(\"Average percent of corectly predicted all-american {:.4f}\\n\".format(avg_correct_allam))"
   ]
  },
  {
   "cell_type": "code",
   "execution_count": 387,
   "metadata": {
    "pycharm": {
     "name": "#%%\n"
    }
   },
   "outputs": [
    {
     "data": {
      "text/plain": [
       "<sklearn.metrics._plot.roc_curve.RocCurveDisplay at 0x7f0e97767580>"
      ]
     },
     "execution_count": 387,
     "metadata": {},
     "output_type": "execute_result"
    },
    {
     "data": {
      "image/png": "[encoded data removed]",
      "text/plain": [
       "<Figure size 640x480 with 1 Axes>"
      ]
     },
     "metadata": {},
     "output_type": "display_data"
    }
   ],
   "source": [
    "# Most recent classifier\n",
    "RocCurveDisplay.from_estimator(svm, X_train, y_train)"
   ]
  },
  {
   "cell_type": "code",
   "execution_count": 464,
   "metadata": {
    "pycharm": {
     "name": "#%%\n"
    }
   },
   "outputs": [
    {
     "data": {
      "text/plain": [
       "0.5740740740740741"
      ]
     },
     "execution_count": 464,
     "metadata": {},
     "output_type": "execute_result"
    }
   ],
   "source": [
    "f1_score(svm.predict(X_tests[1]), y_tests[1])"
   ]
  },
  {
   "cell_type": "markdown",
   "metadata": {
    "pycharm": {
     "name": "#%% md\n"
    }
   },
   "source": [
    "### SVR\n",
    "In addition to the binary classification placing All-American, I prepared the score column as a near-continuous representation of an athlete's place. So, with SVM I also want to treat this as a regression problem and see if the continuous target variable improves performance."
   ]
  },
  {
   "cell_type": "code",
   "execution_count": 389,
   "metadata": {
    "pycharm": {
     "name": "#%%\n"
    }
   },
   "outputs": [
    {
     "data": {
      "text/html": [
       "<div>\n",
       "<style scoped>\n",
       "    .dataframe tbody tr th:only-of-type {\n",
       "        vertical-align: middle;\n",
       "    }\n",
       "\n",
       "    .dataframe tbody tr th {\n",
       "        vertical-align: top;\n",
       "    }\n",
       "\n",
       "    .dataframe thead th {\n",
       "        text-align: right;\n",
       "    }\n",
       "</style>\n",
       "<table border=\"1\" class=\"dataframe\">\n",
       "  <thead>\n",
       "    <tr style=\"text-align: right;\">\n",
       "      <th></th>\n",
       "      <th>place</th>\n",
       "      <th>score</th>\n",
       "    </tr>\n",
       "  </thead>\n",
       "  <tbody>\n",
       "    <tr>\n",
       "      <th>0</th>\n",
       "      <td>1</td>\n",
       "      <td>1.000000</td>\n",
       "    </tr>\n",
       "    <tr>\n",
       "      <th>1</th>\n",
       "      <td>2</td>\n",
       "      <td>0.958333</td>\n",
       "    </tr>\n",
       "    <tr>\n",
       "      <th>2</th>\n",
       "      <td>3</td>\n",
       "      <td>0.916667</td>\n",
       "    </tr>\n",
       "    <tr>\n",
       "      <th>3</th>\n",
       "      <td>4</td>\n",
       "      <td>0.875000</td>\n",
       "    </tr>\n",
       "    <tr>\n",
       "      <th>4</th>\n",
       "      <td>5</td>\n",
       "      <td>0.833333</td>\n",
       "    </tr>\n",
       "    <tr>\n",
       "      <th>...</th>\n",
       "      <td>...</td>\n",
       "      <td>...</td>\n",
       "    </tr>\n",
       "    <tr>\n",
       "      <th>425</th>\n",
       "      <td>20</td>\n",
       "      <td>0.208333</td>\n",
       "    </tr>\n",
       "    <tr>\n",
       "      <th>426</th>\n",
       "      <td>21</td>\n",
       "      <td>0.166667</td>\n",
       "    </tr>\n",
       "    <tr>\n",
       "      <th>427</th>\n",
       "      <td>22</td>\n",
       "      <td>0.125000</td>\n",
       "    </tr>\n",
       "    <tr>\n",
       "      <th>428</th>\n",
       "      <td>23</td>\n",
       "      <td>0.083333</td>\n",
       "    </tr>\n",
       "    <tr>\n",
       "      <th>429</th>\n",
       "      <td>24</td>\n",
       "      <td>0.041667</td>\n",
       "    </tr>\n",
       "  </tbody>\n",
       "</table>\n",
       "<p>430 rows × 2 columns</p>\n",
       "</div>"
      ],
      "text/plain": [
       "     place     score\n",
       "0        1  1.000000\n",
       "1        2  0.958333\n",
       "2        3  0.916667\n",
       "3        4  0.875000\n",
       "4        5  0.833333\n",
       "..     ...       ...\n",
       "425     20  0.208333\n",
       "426     21  0.166667\n",
       "427     22  0.125000\n",
       "428     23  0.083333\n",
       "429     24  0.041667\n",
       "\n",
       "[430 rows x 2 columns]"
      ]
     },
     "execution_count": 389,
     "metadata": {},
     "output_type": "execute_result"
    }
   ],
   "source": [
    "df[[\"place\", \"score\"]]"
   ]
  },
  {
   "cell_type": "code",
   "execution_count": 406,
   "metadata": {
    "pycharm": {
     "name": "#%%\n"
    }
   },
   "outputs": [
    {
     "name": "stdout",
     "output_type": "stream",
     "text": [
      "TRAIN: {0, 2, 3, 4, 5, 6, 7, 8, 9, 10, 11, 12, 16, 17} TEST: {1, 12, 13, 14, 15, 16}\n",
      "TRAIN: {0, 1, 2, 5, 6, 7, 8, 9, 10, 11, 14, 15, 16, 17} TEST: {3, 4, 11, 12, 13, 14}\n",
      "TRAIN: {0, 1, 2, 3, 4, 7, 8, 11, 12, 13, 14, 15, 16, 17} TEST: {5, 6, 8, 9, 10, 11}\n",
      "TRAIN: {1, 2, 3, 4, 6, 7, 8, 9, 10, 11, 12, 15, 16, 17} TEST: {0, 5, 12, 13, 14, 15}\n",
      "TRAIN: {0, 1, 3, 5, 6, 8, 9, 10, 11, 12, 13, 14, 15, 16, 17} TEST: {2, 4, 7, 9, 10, 11, 12}\n"
     ]
    }
   ],
   "source": [
    "# Verify the data looks shuffled and that the target is stratified to 1/3\n",
    "X_data = X_scaled\n",
    "\n",
    "# Data cannot be safely put in a big array because the two events with 23 athletes make numbers inconsistent\n",
    "X_trains = {}\n",
    "X_tests = {}\n",
    "y_trains = {}\n",
    "y_tests = {}\n",
    "\n",
    "# Re-run the train test split but with y_score as the target\n",
    "for i, (train_index, test_index) in enumerate(np.array(list(lpgo.split(X_data, y_score, groups)), dtype=object)[split_indexes]):\n",
    "    print(\"TRAIN:\", set([math.floor(x / 24) for x in train_index]), \"TEST:\", set([math.floor(y / 24) for y in test_index]))\n",
    "    X_trains[i], X_tests[i] = X_data.iloc[train_index], X_data.iloc[test_index]\n",
    "    y_trains[i], y_tests[i] = y_score.iloc[train_index], y_score.iloc[test_index]"
   ]
  },
  {
   "cell_type": "code",
   "execution_count": 391,
   "metadata": {
    "pycharm": {
     "name": "#%%\n"
    }
   },
   "outputs": [],
   "source": [
    "from sklearn.metrics import mean_squared_error, mean_absolute_error"
   ]
  },
  {
   "cell_type": "code",
   "execution_count": 458,
   "metadata": {
    "pycharm": {
     "name": "#%%\n"
    }
   },
   "outputs": [
    {
     "name": "stdout",
     "output_type": "stream",
     "text": [
      "Average mean squared error: 0.0715 or roughly 1.72 places\n",
      "Aveage mean absolute error: 0.2228 or roughly 5.35 places\n",
      "Average percent of predictions to be all-american 0.0451\n",
      "Average percent of corectly predicted all-american 0.5846\n",
      "\n"
     ]
    }
   ],
   "source": [
    "avg_mse, avg_mae, avg_percent_allam, avg_correct_allam = 0, 0, 0, 0\n",
    "max_predictions = []\n",
    "for X_train, y_train in zip(X_trains.values(), y_trains.values()):\n",
    "\n",
    "    # Train the model\n",
    "    #svm = SVR(C=1, kernel=\"poly\", degree=3)\n",
    "    svm = SVR(kernel=\"linear\")\n",
    "    svm.fit(X_train, y_train)\n",
    "\n",
    "    # Predictions to get metrics\n",
    "    predictions = svm.predict(X_train)\n",
    "    max_predictions += [max(predictions)]\n",
    "\n",
    "    # Metrics\n",
    "    avg_mse += mean_squared_error(predictions, y_train)\n",
    "    avg_mae += mean_absolute_error(predictions, y_train)\n",
    "    # 0.7083 = 1 - (7/24) is the 8th place in the score variable\n",
    "    avg_percent_allam += sum(predictions >= 0.708) / len(predictions)\n",
    "\n",
    "    # The most important prediction\n",
    "    temp = df.iloc[X_train.index][[\"name\", \"event\", \"place\", \"all_american\"]]\n",
    "    temp[\"predicted_score\"] = predictions\n",
    "    mapped_predictions = temp.sort_values([\"event\", \"predicted_score\"], ascending=False).groupby([\"event\"]).head(8)\n",
    "    avg_correct_allam += sum(mapped_predictions[\"all_american\"]) / len(mapped_predictions)\n",
    "    # print(\"Accuracy: {:.4f}\".format(accuracy_score(predictions, y_train)))\n",
    "    # print(\"F1 Score: {:.4f}\".format(f1_score(predictions, y_train)))\n",
    "    # print(\"Percent all american {:.4f}\\n\".format(sum(predictions) / len(predictions)))\n",
    "\n",
    "avg_mse /= 5\n",
    "avg_mae /= 5\n",
    "avg_percent_allam /= 5\n",
    "avg_correct_allam /= 5\n",
    "print(\"Average mean squared error: {:.4f} or roughly {:.2f} places\".format(avg_mse, avg_mse*24))\n",
    "print(\"Aveage mean absolute error: {:.4f} or roughly {:.2f} places\".format(avg_mae, avg_mae*24))\n",
    "print(\"Average percent of predictions to be all-american {:.4f}\".format(avg_percent_allam))\n",
    "print(\"Average percent of corectly predicted all-american {:.4f}\\n\".format(avg_correct_allam))"
   ]
  },
  {
   "cell_type": "markdown",
   "metadata": {
    "pycharm": {
     "name": "#%% md\n"
    }
   },
   "source": [
    "While the SVR gives us a more tangible result, as our error can represent the number of positions off from actual, the performance is not an improvement. Based on the model predicting so few people to make the threshhold for All-American it is predicting scores too low. For futher evidence the max predictions seldom exceed the score for even 3rd place."
   ]
  },
  {
   "cell_type": "code",
   "execution_count": 459,
   "metadata": {
    "pycharm": {
     "name": "#%%\n"
    }
   },
   "outputs": [
    {
     "name": "stdout",
     "output_type": "stream",
     "text": [
      "Max predictions:  [0.8578011233619528, 0.9162684988852683, 0.8255271880417426, 0.9009684985280721, 0.9019185165323869]\n",
      "Score for 3rd place [0.91666667]\n"
     ]
    }
   ],
   "source": [
    "print(\"Max predictions: \", max_predictions)\n",
    "print(\"Score for 3rd place\", df[df[\"place\"] == 3][\"score\"].head(1).values)"
   ]
  }
 ],
 "metadata": {
  "kernelspec": {
   "name": "tensorflow",
   "language": "python",
   "display_name": "tensorflow"
  },
  "language_info": {
   "codemirror_mode": {
    "name": "ipython",
    "version": 3
   },
   "file_extension": ".py",
   "mimetype": "text/x-python",
   "name": "python",
   "nbconvert_exporter": "python",
   "pygments_lexer": "ipython3",
   "version": "3.9.13"
  },
  "vscode": {
   "interpreter": {
    "hash": "916dbcbb3f70747c44a77c7bcd40155683ae19c65e1c03b4aa3499c5328201f1"
   }
  }
 },
 "nbformat": 4,
 "nbformat_minor": 4
}